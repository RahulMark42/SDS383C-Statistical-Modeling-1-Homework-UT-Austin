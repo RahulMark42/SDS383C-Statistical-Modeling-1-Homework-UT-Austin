{
 "cells": [
  {
   "cell_type": "code",
   "execution_count": 30,
   "metadata": {},
   "outputs": [],
   "source": [
    "import numpy as np\n",
    "from scipy.stats import weibull_min\n",
    "import weibull\n",
    "from sympy import *\n",
    "from sympy.abc import m,s,y,n"
   ]
  },
  {
   "cell_type": "code",
   "execution_count": 31,
   "metadata": {},
   "outputs": [],
   "source": [
    "y, i = symbols(\"y i\")\n",
    "sum1 = (-1/(2*pow(s,2)))*Sum(pow(Indexed('y',i) - m,2),(i,1,n))"
   ]
  },
  {
   "cell_type": "code",
   "execution_count": 32,
   "metadata": {},
   "outputs": [
    {
     "data": {
      "text/latex": [
       "$\\displaystyle - n \\log{\\left(s \\right)} - n \\log{\\left(\\sqrt{2} \\sqrt{\\pi} \\right)} - \\frac{\\sum_{i=1}^{n} \\left(- m + {y}_{i}\\right)^{2}}{2 s^{2}}$"
      ],
      "text/plain": [
       "-n*log(s) - n*log(sqrt(2)*sqrt(pi)) - Sum((-m + y[i])**2, (i, 1, n))/(2*s**2)"
      ]
     },
     "execution_count": 32,
     "metadata": {},
     "output_type": "execute_result"
    }
   ],
   "source": [
    "expr = sum1 - n*log(sqrt(2*pi)) - n*log(s)\n",
    "expr"
   ]
  },
  {
   "cell_type": "code",
   "execution_count": 33,
   "metadata": {},
   "outputs": [
    {
     "data": {
      "text/latex": [
       "$\\displaystyle - \\frac{\\sum_{i=1}^{n} \\left(2 m - 2 {y}_{i}\\right)}{2 s^{2}}$"
      ],
      "text/plain": [
       "-Sum(2*m - 2*y[i], (i, 1, n))/(2*s**2)"
      ]
     },
     "execution_count": 33,
     "metadata": {},
     "output_type": "execute_result"
    }
   ],
   "source": [
    "first_der_m = diff(expr, m)\n",
    "first_der_m"
   ]
  },
  {
   "cell_type": "code",
   "execution_count": 34,
   "metadata": {},
   "outputs": [
    {
     "data": {
      "text/latex": [
       "$\\displaystyle - \\frac{n}{s} + \\frac{\\sum_{i=1}^{n} \\left(- m + {y}_{i}\\right)^{2}}{s^{3}}$"
      ],
      "text/plain": [
       "-n/s + Sum((-m + y[i])**2, (i, 1, n))/s**3"
      ]
     },
     "execution_count": 34,
     "metadata": {},
     "output_type": "execute_result"
    }
   ],
   "source": [
    "first_der_s = diff(expr, s)\n",
    "first_der_s"
   ]
  },
  {
   "cell_type": "code",
   "execution_count": 35,
   "metadata": {},
   "outputs": [
    {
     "data": {
      "text/latex": [
       "$\\displaystyle \\frac{\\sum_{i=1}^{n} \\left(2 m - 2 {y}_{i}\\right)}{s^{3}}$"
      ],
      "text/plain": [
       "Sum(2*m - 2*y[i], (i, 1, n))/s**3"
      ]
     },
     "execution_count": 35,
     "metadata": {},
     "output_type": "execute_result"
    }
   ],
   "source": [
    "diff(first_der_s, m)"
   ]
  },
  {
   "cell_type": "code",
   "execution_count": 36,
   "metadata": {},
   "outputs": [
    {
     "data": {
      "text/latex": [
       "$\\displaystyle \\frac{\\sum_{i=1}^{n} \\left(2 m - 2 {y}_{i}\\right)}{s^{3}}$"
      ],
      "text/plain": [
       "Sum(2*m - 2*y[i], (i, 1, n))/s**3"
      ]
     },
     "execution_count": 36,
     "metadata": {},
     "output_type": "execute_result"
    }
   ],
   "source": [
    "diff(first_der_m, s)"
   ]
  },
  {
   "cell_type": "code",
   "execution_count": 37,
   "metadata": {},
   "outputs": [
    {
     "data": {
      "text/latex": [
       "$\\displaystyle - \\frac{\\sum_{i=1}^{n} 2}{2 s^{2}}$"
      ],
      "text/plain": [
       "-Sum(2, (i, 1, n))/(2*s**2)"
      ]
     },
     "execution_count": 37,
     "metadata": {},
     "output_type": "execute_result"
    }
   ],
   "source": [
    "diff(first_der_m, m)"
   ]
  },
  {
   "cell_type": "code",
   "execution_count": 38,
   "metadata": {},
   "outputs": [
    {
     "data": {
      "text/latex": [
       "$\\displaystyle \\frac{n}{s^{2}} - \\frac{3 \\sum_{i=1}^{n} \\left(- m + {y}_{i}\\right)^{2}}{s^{4}}$"
      ],
      "text/plain": [
       "n/s**2 - 3*Sum((-m + y[i])**2, (i, 1, n))/s**4"
      ]
     },
     "execution_count": 38,
     "metadata": {},
     "output_type": "execute_result"
    }
   ],
   "source": [
    "diff(first_der_s, s)"
   ]
  },
  {
   "cell_type": "code",
   "execution_count": 57,
   "metadata": {},
   "outputs": [],
   "source": [
    "y, i = symbols(\"y i\")\n",
    "sum2 = Sum(-1*log(sqrt(2*pi)) - log(s) - (1/(2*pow(s,2)))*(pow((Indexed('y',i) - m),2)),(i,1,n))"
   ]
  },
  {
   "cell_type": "code",
   "execution_count": 58,
   "metadata": {},
   "outputs": [
    {
     "data": {
      "text/latex": [
       "$\\displaystyle \\sum_{i=1}^{n} \\left(- \\log{\\left(s \\right)} - \\log{\\left(\\sqrt{2} \\sqrt{\\pi} \\right)} - \\frac{\\left(- m + {y}_{i}\\right)^{2}}{2 s^{2}}\\right)$"
      ],
      "text/plain": [
       "Sum(-log(s) - log(sqrt(2)*sqrt(pi)) - (-m + y[i])**2/(2*s**2), (i, 1, n))"
      ]
     },
     "execution_count": 58,
     "metadata": {},
     "output_type": "execute_result"
    }
   ],
   "source": [
    "sum2"
   ]
  },
  {
   "cell_type": "code",
   "execution_count": 60,
   "metadata": {},
   "outputs": [],
   "source": [
    "diffs = diff(sum2, s)"
   ]
  },
  {
   "cell_type": "code",
   "execution_count": 61,
   "metadata": {},
   "outputs": [],
   "source": [
    "diffm = diff(sum2, m)"
   ]
  },
  {
   "cell_type": "code",
   "execution_count": 62,
   "metadata": {},
   "outputs": [
    {
     "data": {
      "text/latex": [
       "$\\displaystyle \\sum_{i=1}^{n} - \\frac{2 m - 2 {y}_{i}}{2 s^{2}}$"
      ],
      "text/plain": [
       "Sum(-(2*m - 2*y[i])/(2*s**2), (i, 1, n))"
      ]
     },
     "execution_count": 62,
     "metadata": {},
     "output_type": "execute_result"
    }
   ],
   "source": [
    "diffm"
   ]
  },
  {
   "cell_type": "code",
   "execution_count": 63,
   "metadata": {},
   "outputs": [],
   "source": [
    "diffm_m = diff(diffm, m)"
   ]
  },
  {
   "cell_type": "code",
   "execution_count": 64,
   "metadata": {},
   "outputs": [
    {
     "data": {
      "text/latex": [
       "$\\displaystyle \\sum_{i=1}^{n} - \\frac{1}{s^{2}}$"
      ],
      "text/plain": [
       "Sum(-1/s**2, (i, 1, n))"
      ]
     },
     "execution_count": 64,
     "metadata": {},
     "output_type": "execute_result"
    }
   ],
   "source": [
    "diffm_m"
   ]
  },
  {
   "cell_type": "code",
   "execution_count": 65,
   "metadata": {},
   "outputs": [],
   "source": [
    "diffm_s = diff(diffm, s)"
   ]
  },
  {
   "cell_type": "code",
   "execution_count": 66,
   "metadata": {},
   "outputs": [
    {
     "data": {
      "text/latex": [
       "$\\displaystyle \\sum_{i=1}^{n} \\frac{2 m - 2 {y}_{i}}{s^{3}}$"
      ],
      "text/plain": [
       "Sum((2*m - 2*y[i])/s**3, (i, 1, n))"
      ]
     },
     "execution_count": 66,
     "metadata": {},
     "output_type": "execute_result"
    }
   ],
   "source": [
    "diffm_s"
   ]
  },
  {
   "cell_type": "code",
   "execution_count": 67,
   "metadata": {},
   "outputs": [],
   "source": [
    "diffs_s = diff(diffs, s)"
   ]
  },
  {
   "cell_type": "code",
   "execution_count": 68,
   "metadata": {},
   "outputs": [
    {
     "data": {
      "text/latex": [
       "$\\displaystyle \\sum_{i=1}^{n} \\left(\\frac{1}{s^{2}} - \\frac{3 \\left(- m + {y}_{i}\\right)^{2}}{s^{4}}\\right)$"
      ],
      "text/plain": [
       "Sum(s**(-2) - 3*(-m + y[i])**2/s**4, (i, 1, n))"
      ]
     },
     "execution_count": 68,
     "metadata": {},
     "output_type": "execute_result"
    }
   ],
   "source": [
    "diffs_s"
   ]
  },
  {
   "cell_type": "code",
   "execution_count": 71,
   "metadata": {},
   "outputs": [],
   "source": [
    "diffs_m = diff(diffs, m)"
   ]
  },
  {
   "cell_type": "code",
   "execution_count": 72,
   "metadata": {},
   "outputs": [
    {
     "data": {
      "text/latex": [
       "$\\displaystyle \\sum_{i=1}^{n} \\frac{2 m - 2 {y}_{i}}{s^{3}}$"
      ],
      "text/plain": [
       "Sum((2*m - 2*y[i])/s**3, (i, 1, n))"
      ]
     },
     "execution_count": 72,
     "metadata": {},
     "output_type": "execute_result"
    }
   ],
   "source": [
    "diffs_m"
   ]
  },
  {
   "cell_type": "code",
   "execution_count": null,
   "metadata": {},
   "outputs": [],
   "source": []
  }
 ],
 "metadata": {
  "kernelspec": {
   "display_name": "Python 3.9.7 64-bit",
   "language": "python",
   "name": "python3"
  },
  "language_info": {
   "codemirror_mode": {
    "name": "ipython",
    "version": 3
   },
   "file_extension": ".py",
   "mimetype": "text/x-python",
   "name": "python",
   "nbconvert_exporter": "python",
   "pygments_lexer": "ipython3",
   "version": "3.9.7"
  },
  "orig_nbformat": 4,
  "vscode": {
   "interpreter": {
    "hash": "74896034db1845be5000ed9314487ee297f444d1b9bf6f172497bb9704b8efa0"
   }
  }
 },
 "nbformat": 4,
 "nbformat_minor": 2
}
