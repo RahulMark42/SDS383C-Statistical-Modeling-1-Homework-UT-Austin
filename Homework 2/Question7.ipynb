{
 "cells": [
  {
   "cell_type": "code",
   "execution_count": 23,
   "metadata": {},
   "outputs": [],
   "source": [
    "import numpy as np\n",
    "from scipy.stats import weibull_min\n",
    "import weibull\n",
    "import sympy as sp\n",
    "from sympy import *\n",
    "from sympy.abc import k,l,x,n,K,L,h,o\n",
    "import matplotlib.pyplot as plt"
   ]
  },
  {
   "cell_type": "code",
   "execution_count": null,
   "metadata": {},
   "outputs": [],
   "source": []
  },
  {
   "cell_type": "code",
   "execution_count": 24,
   "metadata": {},
   "outputs": [],
   "source": [
    "x, i = symbols(\"x i\")\n",
    "s = Sum(log(Indexed('x',i)),(i,1,n))\n",
    "t = Sum(pow(Indexed('x',i)/l,k),(i,1,n))"
   ]
  },
  {
   "cell_type": "code",
   "execution_count": 25,
   "metadata": {},
   "outputs": [
    {
     "data": {
      "text/latex": [
       "$\\displaystyle - k n \\log{\\left(l \\right)} + n \\log{\\left(k \\right)} + \\left(k - 1\\right) \\sum_{i=1}^{n} \\log{\\left({x}_{i} \\right)} - \\sum_{i=1}^{n} \\left(\\frac{{x}_{i}}{l}\\right)^{k}$"
      ],
      "text/plain": [
       "-k*n*log(l) + n*log(k) + (k - 1)*Sum(log(x[i]), (i, 1, n)) - Sum((x[i]/l)**k, (i, 1, n))"
      ]
     },
     "execution_count": 25,
     "metadata": {},
     "output_type": "execute_result"
    }
   ],
   "source": [
    "expr = n*log(k) - k*n*log(l) + (k-1)*s - t\n",
    "expr"
   ]
  },
  {
   "cell_type": "code",
   "execution_count": 26,
   "metadata": {},
   "outputs": [],
   "source": [
    "first_derivative_k = diff(expr,k)\n",
    "first_derivative_l = diff(expr,l)"
   ]
  },
  {
   "cell_type": "code",
   "execution_count": 27,
   "metadata": {},
   "outputs": [
    {
     "data": {
      "text/latex": [
       "$\\displaystyle - n \\log{\\left(l \\right)} - \\sum_{i=1}^{n} \\left(\\frac{{x}_{i}}{l}\\right)^{k} \\log{\\left(\\frac{{x}_{i}}{l} \\right)} + \\sum_{i=1}^{n} \\log{\\left({x}_{i} \\right)} + \\frac{n}{k}$"
      ],
      "text/plain": [
       "-n*log(l) - Sum((x[i]/l)**k*log(x[i]/l), (i, 1, n)) + Sum(log(x[i]), (i, 1, n)) + n/k"
      ]
     },
     "execution_count": 27,
     "metadata": {},
     "output_type": "execute_result"
    }
   ],
   "source": [
    "first_derivative_k"
   ]
  },
  {
   "cell_type": "code",
   "execution_count": 28,
   "metadata": {},
   "outputs": [
    {
     "data": {
      "text/latex": [
       "$\\displaystyle - \\frac{k n}{l} - \\sum_{i=1}^{n} - \\frac{k \\left(\\frac{{x}_{i}}{l}\\right)^{k}}{l}$"
      ],
      "text/plain": [
       "-k*n/l - Sum(-k*(x[i]/l)**k/l, (i, 1, n))"
      ]
     },
     "execution_count": 28,
     "metadata": {},
     "output_type": "execute_result"
    }
   ],
   "source": [
    "first_derivative_l"
   ]
  },
  {
   "cell_type": "code",
   "execution_count": 29,
   "metadata": {},
   "outputs": [],
   "source": [
    "second_derivative_kk = diff(first_derivative_k, k)\n",
    "second_derivative_kl = diff(first_derivative_k, l)\n",
    "second_derivative_lk = diff(first_derivative_l, k)\n",
    "second_derivative_ll = diff(first_derivative_l, l)"
   ]
  },
  {
   "cell_type": "code",
   "execution_count": 30,
   "metadata": {},
   "outputs": [
    {
     "data": {
      "text/latex": [
       "$\\displaystyle - \\sum_{i=1}^{n} \\left(- \\frac{k \\left(\\frac{{x}_{i}}{l}\\right)^{k} \\log{\\left(\\frac{{x}_{i}}{l} \\right)}}{l} - \\frac{\\left(\\frac{{x}_{i}}{l}\\right)^{k}}{l}\\right) - \\frac{n}{l}$"
      ],
      "text/plain": [
       "-Sum(-k*(x[i]/l)**k*log(x[i]/l)/l - (x[i]/l)**k/l, (i, 1, n)) - n/l"
      ]
     },
     "execution_count": 30,
     "metadata": {},
     "output_type": "execute_result"
    }
   ],
   "source": [
    "second_derivative_lk"
   ]
  },
  {
   "cell_type": "code",
   "execution_count": 31,
   "metadata": {},
   "outputs": [
    {
     "data": {
      "text/latex": [
       "$\\displaystyle - \\sum_{i=1}^{n} \\left(- \\frac{k \\left(\\frac{{x}_{i}}{l}\\right)^{k} \\log{\\left(\\frac{{x}_{i}}{l} \\right)}}{l} - \\frac{\\left(\\frac{{x}_{i}}{l}\\right)^{k}}{l}\\right) - \\frac{n}{l}$"
      ],
      "text/plain": [
       "-Sum(-k*(x[i]/l)**k*log(x[i]/l)/l - (x[i]/l)**k/l, (i, 1, n)) - n/l"
      ]
     },
     "execution_count": 31,
     "metadata": {},
     "output_type": "execute_result"
    }
   ],
   "source": [
    "second_derivative_kl"
   ]
  },
  {
   "cell_type": "code",
   "execution_count": 32,
   "metadata": {},
   "outputs": [
    {
     "data": {
      "text/latex": [
       "$\\displaystyle - \\sum_{i=1}^{n} \\left(\\frac{{x}_{i}}{l}\\right)^{k} \\log{\\left(\\frac{{x}_{i}}{l} \\right)}^{2} - \\frac{n}{k^{2}}$"
      ],
      "text/plain": [
       "-Sum((x[i]/l)**k*log(x[i]/l)**2, (i, 1, n)) - n/k**2"
      ]
     },
     "execution_count": 32,
     "metadata": {},
     "output_type": "execute_result"
    }
   ],
   "source": [
    "second_derivative_kk"
   ]
  },
  {
   "cell_type": "code",
   "execution_count": 33,
   "metadata": {},
   "outputs": [
    {
     "data": {
      "text/latex": [
       "$\\displaystyle \\frac{k n}{l^{2}} - \\sum_{i=1}^{n} \\left(\\frac{k^{2} \\left(\\frac{{x}_{i}}{l}\\right)^{k}}{l^{2}} + \\frac{k \\left(\\frac{{x}_{i}}{l}\\right)^{k}}{l^{2}}\\right)$"
      ],
      "text/plain": [
       "k*n/l**2 - Sum(k**2*(x[i]/l)**k/l**2 + k*(x[i]/l)**k/l**2, (i, 1, n))"
      ]
     },
     "execution_count": 33,
     "metadata": {},
     "output_type": "execute_result"
    }
   ],
   "source": [
    "second_derivative_ll"
   ]
  },
  {
   "cell_type": "code",
   "execution_count": 34,
   "metadata": {},
   "outputs": [
    {
     "data": {
      "text/latex": [
       "$\\displaystyle - n \\log{\\left(l \\right)} - \\sum_{i=1}^{n} \\left(\\frac{{x}_{i}}{l}\\right)^{k} \\log{\\left(\\frac{{x}_{i}}{l} \\right)} + \\sum_{i=1}^{n} \\log{\\left({x}_{i} \\right)} + \\frac{n}{k}$"
      ],
      "text/plain": [
       "-n*log(l) - Sum((x[i]/l)**k*log(x[i]/l), (i, 1, n)) + Sum(log(x[i]), (i, 1, n)) + n/k"
      ]
     },
     "execution_count": 34,
     "metadata": {},
     "output_type": "execute_result"
    }
   ],
   "source": [
    "first_derivative_k"
   ]
  },
  {
   "cell_type": "code",
   "execution_count": 35,
   "metadata": {},
   "outputs": [
    {
     "data": {
      "text/latex": [
       "$\\displaystyle - \\frac{k n}{l} - \\sum_{i=1}^{n} - \\frac{k \\left(\\frac{{x}_{i}}{l}\\right)^{k}}{l}$"
      ],
      "text/plain": [
       "-k*n/l - Sum(-k*(x[i]/l)**k/l, (i, 1, n))"
      ]
     },
     "execution_count": 35,
     "metadata": {},
     "output_type": "execute_result"
    }
   ],
   "source": [
    "first_derivative_l"
   ]
  },
  {
   "cell_type": "code",
   "execution_count": 36,
   "metadata": {},
   "outputs": [],
   "source": [
    "theta_vec = sp.Matrix([k-h, l-o])"
   ]
  },
  {
   "cell_type": "code",
   "execution_count": 37,
   "metadata": {},
   "outputs": [
    {
     "data": {
      "text/latex": [
       "$\\displaystyle \\left[\\begin{matrix}- h + k\\\\l - o\\end{matrix}\\right]$"
      ],
      "text/plain": [
       "Matrix([\n",
       "[-h + k],\n",
       "[ l - o]])"
      ]
     },
     "execution_count": 37,
     "metadata": {},
     "output_type": "execute_result"
    }
   ],
   "source": [
    "theta_vec"
   ]
  },
  {
   "cell_type": "code",
   "execution_count": 38,
   "metadata": {},
   "outputs": [],
   "source": [
    "J_matrix = sp.Matrix([[-second_derivative_kk, -second_derivative_kl],[-second_derivative_lk, -second_derivative_ll]])"
   ]
  },
  {
   "cell_type": "code",
   "execution_count": 39,
   "metadata": {},
   "outputs": [],
   "source": [
    "expression = theta_vec.T*J_matrix*theta_vec"
   ]
  },
  {
   "cell_type": "code",
   "execution_count": 40,
   "metadata": {},
   "outputs": [
    {
     "data": {
      "text/latex": [
       "$\\displaystyle \\left[\\begin{matrix}\\left(- h + k\\right) \\left(\\left(- h + k\\right) \\left(\\sum_{i=1}^{n} \\left(\\frac{{x}_{i}}{l}\\right)^{k} \\log{\\left(\\frac{{x}_{i}}{l} \\right)}^{2} + \\frac{n}{k^{2}}\\right) + \\left(l - o\\right) \\left(\\sum_{i=1}^{n} \\left(- \\frac{k \\left(\\frac{{x}_{i}}{l}\\right)^{k} \\log{\\left(\\frac{{x}_{i}}{l} \\right)}}{l} - \\frac{\\left(\\frac{{x}_{i}}{l}\\right)^{k}}{l}\\right) + \\frac{n}{l}\\right)\\right) + \\left(l - o\\right) \\left(\\left(- h + k\\right) \\left(\\sum_{i=1}^{n} \\left(- \\frac{k \\left(\\frac{{x}_{i}}{l}\\right)^{k} \\log{\\left(\\frac{{x}_{i}}{l} \\right)}}{l} - \\frac{\\left(\\frac{{x}_{i}}{l}\\right)^{k}}{l}\\right) + \\frac{n}{l}\\right) + \\left(l - o\\right) \\left(- \\frac{k n}{l^{2}} + \\sum_{i=1}^{n} \\left(\\frac{k^{2} \\left(\\frac{{x}_{i}}{l}\\right)^{k}}{l^{2}} + \\frac{k \\left(\\frac{{x}_{i}}{l}\\right)^{k}}{l^{2}}\\right)\\right)\\right)\\end{matrix}\\right]$"
      ],
      "text/plain": [
       "Matrix([[(-h + k)*((-h + k)*(Sum((x[i]/l)**k*log(x[i]/l)**2, (i, 1, n)) + n/k**2) + (l - o)*(Sum(-k*(x[i]/l)**k*log(x[i]/l)/l - (x[i]/l)**k/l, (i, 1, n)) + n/l)) + (l - o)*((-h + k)*(Sum(-k*(x[i]/l)**k*log(x[i]/l)/l - (x[i]/l)**k/l, (i, 1, n)) + n/l) + (l - o)*(-k*n/l**2 + Sum(k**2*(x[i]/l)**k/l**2 + k*(x[i]/l)**k/l**2, (i, 1, n))))]])"
      ]
     },
     "execution_count": 40,
     "metadata": {},
     "output_type": "execute_result"
    }
   ],
   "source": [
    "expression"
   ]
  },
  {
   "cell_type": "code",
   "execution_count": 41,
   "metadata": {},
   "outputs": [
    {
     "name": "stdout",
     "output_type": "stream",
     "text": [
      "\\left[\\begin{matrix}\\left(- h + k\\right) \\left(\\left(- h + k\\right) \\left(\\sum_{i=1}^{n} \\left(\\frac{{x}_{i}}{l}\\right)^{k} \\log{\\left(\\frac{{x}_{i}}{l} \\right)}^{2} + \\frac{n}{k^{2}}\\right) + \\left(l - o\\right) \\left(\\sum_{i=1}^{n} \\left(- \\frac{k \\left(\\frac{{x}_{i}}{l}\\right)^{k} \\log{\\left(\\frac{{x}_{i}}{l} \\right)}}{l} - \\frac{\\left(\\frac{{x}_{i}}{l}\\right)^{k}}{l}\\right) + \\frac{n}{l}\\right)\\right) + \\left(l - o\\right) \\left(\\left(- h + k\\right) \\left(\\sum_{i=1}^{n} \\left(- \\frac{k \\left(\\frac{{x}_{i}}{l}\\right)^{k} \\log{\\left(\\frac{{x}_{i}}{l} \\right)}}{l} - \\frac{\\left(\\frac{{x}_{i}}{l}\\right)^{k}}{l}\\right) + \\frac{n}{l}\\right) + \\left(l - o\\right) \\left(- \\frac{k n}{l^{2}} + \\sum_{i=1}^{n} \\left(\\frac{k^{2} \\left(\\frac{{x}_{i}}{l}\\right)^{k}}{l^{2}} + \\frac{k \\left(\\frac{{x}_{i}}{l}\\right)^{k}}{l^{2}}\\right)\\right)\\right)\\end{matrix}\\right]\n"
     ]
    }
   ],
   "source": [
    "from sympy import Matrix, print_latex\n",
    "\n",
    "print_latex(expression)"
   ]
  },
  {
   "cell_type": "code",
   "execution_count": 42,
   "metadata": {},
   "outputs": [],
   "source": [
    "vals = np.linspace(0, 100)\n",
    "heights = weibull_min.pdf(vals, loc = 0, c = 5.976913010189012, scale = 181.40556859870227)\n",
    "    "
   ]
  },
  {
   "cell_type": "code",
   "execution_count": 43,
   "metadata": {},
   "outputs": [
    {
     "data": {
      "text/plain": [
       "[<matplotlib.lines.Line2D at 0x1cc0ab34c40>]"
      ]
     },
     "execution_count": 43,
     "metadata": {},
     "output_type": "execute_result"
    },
    {
     "data": {
      "image/png": "[encoded data removed]",
      "text/plain": [
       "<Figure size 432x288 with 1 Axes>"
      ]
     },
     "metadata": {
      "needs_background": "light"
     },
     "output_type": "display_data"
    }
   ],
   "source": [
    "plt.plot(vals, heights)"
   ]
  },
  {
   "cell_type": "code",
   "execution_count": null,
   "metadata": {},
   "outputs": [],
   "source": []
  }
 ],
 "metadata": {
  "kernelspec": {
   "display_name": "Python 3.9.7 64-bit",
   "language": "python",
   "name": "python3"
  },
  "language_info": {
   "codemirror_mode": {
    "name": "ipython",
    "version": 3
   },
   "file_extension": ".py",
   "mimetype": "text/x-python",
   "name": "python",
   "nbconvert_exporter": "python",
   "pygments_lexer": "ipython3",
   "version": "3.9.7"
  },
  "orig_nbformat": 4,
  "vscode": {
   "interpreter": {
    "hash": "74896034db1845be5000ed9314487ee297f444d1b9bf6f172497bb9704b8efa0"
   }
  }
 },
 "nbformat": 4,
 "nbformat_minor": 2
}
