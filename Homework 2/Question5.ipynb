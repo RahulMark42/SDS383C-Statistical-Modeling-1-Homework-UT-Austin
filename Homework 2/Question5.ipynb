{
 "cells": [
  {
   "cell_type": "code",
   "execution_count": 1,
   "metadata": {},
   "outputs": [
    {
     "name": "stderr",
     "output_type": "stream",
     "text": [
      "c:\\Users\\rahul\\AppData\\Local\\Programs\\Python\\Python39\\lib\\site-packages\\scipy\\__init__.py:146: UserWarning: A NumPy version >=1.16.5 and <1.23.0 is required for this version of SciPy (detected version 1.23.3\n",
      "  warnings.warn(f\"A NumPy version >={np_minversion} and <{np_maxversion}\"\n"
     ]
    }
   ],
   "source": [
    "from scipy.stats import expon\n",
    "from scipy.stats import uniform\n",
    "import numpy as np\n",
    "import matplotlib.pyplot as plt\n",
    "from random import sample\n",
    "import math"
   ]
  },
  {
   "cell_type": "code",
   "execution_count": 2,
   "metadata": {},
   "outputs": [],
   "source": [
    "xs = np.random.uniform(low=0.0, high=10, size=10000)"
   ]
  },
  {
   "cell_type": "code",
   "execution_count": 3,
   "metadata": {},
   "outputs": [],
   "source": [
    "xs = np.sort(xs)"
   ]
  },
  {
   "cell_type": "code",
   "execution_count": 4,
   "metadata": {},
   "outputs": [],
   "source": [
    "zn = []\n",
    "for i in range(100000):\n",
    "    samples = sample(xs.tolist(), 1000)\n",
    "    zn.append(1000*(10 - max(samples))/10)"
   ]
  },
  {
   "cell_type": "code",
   "execution_count": 5,
   "metadata": {},
   "outputs": [
    {
     "data": {
      "text/plain": [
       "(array([1.28220580e+00, 1.00082138e+00, 0.00000000e+00, 0.00000000e+00,\n",
       "        6.72440249e-01, 1.43559681e-01, 1.17342816e-01, 9.72332885e-02,\n",
       "        0.00000000e+00, 7.80175180e-02, 9.20569472e-02, 8.43855349e-02,\n",
       "        1.79496151e-02, 4.61774331e-02, 5.12792946e-02, 1.19167569e-02,\n",
       "        1.07250812e-02, 6.07009806e-03, 1.63855408e-03, 1.07995610e-03,\n",
       "        2.53231085e-03, 0.00000000e+00, 1.82475340e-03, 5.21358115e-04,\n",
       "        1.26615542e-03, 2.97918923e-04, 4.09638519e-04, 2.23439192e-04,\n",
       "        1.11719596e-04, 5.95837846e-04, 3.35158788e-04, 1.11719596e-04,\n",
       "        2.60679058e-04, 1.86199327e-04, 1.11719596e-04, 0.00000000e+00,\n",
       "        3.72398654e-05, 3.72398654e-05, 1.11719596e-04, 0.00000000e+00,\n",
       "        3.72398654e-05, 0.00000000e+00, 0.00000000e+00, 0.00000000e+00,\n",
       "        0.00000000e+00, 0.00000000e+00, 0.00000000e+00, 0.00000000e+00,\n",
       "        3.72398654e-05, 3.72398654e-05]),\n",
       " array([5.40471805e-03, 2.73934153e-01, 5.42463588e-01, 8.10993022e-01,\n",
       "        1.07952246e+00, 1.34805189e+00, 1.61658133e+00, 1.88511076e+00,\n",
       "        2.15364020e+00, 2.42216963e+00, 2.69069907e+00, 2.95922850e+00,\n",
       "        3.22775794e+00, 3.49628737e+00, 3.76481680e+00, 4.03334624e+00,\n",
       "        4.30187567e+00, 4.57040511e+00, 4.83893454e+00, 5.10746398e+00,\n",
       "        5.37599341e+00, 5.64452285e+00, 5.91305228e+00, 6.18158172e+00,\n",
       "        6.45011115e+00, 6.71864059e+00, 6.98717002e+00, 7.25569946e+00,\n",
       "        7.52422889e+00, 7.79275833e+00, 8.06128776e+00, 8.32981720e+00,\n",
       "        8.59834663e+00, 8.86687606e+00, 9.13540550e+00, 9.40393493e+00,\n",
       "        9.67246437e+00, 9.94099380e+00, 1.02095232e+01, 1.04780527e+01,\n",
       "        1.07465821e+01, 1.10151115e+01, 1.12836410e+01, 1.15521704e+01,\n",
       "        1.18206998e+01, 1.20892293e+01, 1.23577587e+01, 1.26262882e+01,\n",
       "        1.28948176e+01, 1.31633470e+01, 1.34318765e+01]),\n",
       " <BarContainer object of 50 artists>)"
      ]
     },
     "execution_count": 5,
     "metadata": {},
     "output_type": "execute_result"
    },
    {
     "data": {
      "image/png": "[encoded data removed]",
      "text/plain": [
       "<Figure size 432x288 with 1 Axes>"
      ]
     },
     "metadata": {
      "needs_background": "light"
     },
     "output_type": "display_data"
    }
   ],
   "source": [
    "plt.hist(np.sort(zn), bins = 50, density=True)"
   ]
  },
  {
   "cell_type": "code",
   "execution_count": 6,
   "metadata": {},
   "outputs": [],
   "source": [
    "params = expon.fit(np.sort(zn))"
   ]
  },
  {
   "cell_type": "code",
   "execution_count": 7,
   "metadata": {},
   "outputs": [
    {
     "data": {
      "text/plain": [
       "(0.005404718053370061, 0.8584547973562118)"
      ]
     },
     "execution_count": 7,
     "metadata": {},
     "output_type": "execute_result"
    }
   ],
   "source": [
    "params"
   ]
  },
  {
   "cell_type": "code",
   "execution_count": 8,
   "metadata": {},
   "outputs": [],
   "source": [
    "x = np.linspace(0, 10, 500)\n",
    "y = [np.exp(-val) for val in x]"
   ]
  },
  {
   "cell_type": "code",
   "execution_count": 9,
   "metadata": {},
   "outputs": [
    {
     "data": {
      "text/plain": [
       "<matplotlib.legend.Legend at 0x2805bddfbb0>"
      ]
     },
     "execution_count": 9,
     "metadata": {},
     "output_type": "execute_result"
    },
    {
     "data": {
      "image/png": "[encoded data removed]",
      "text/plain": [
       "<Figure size 432x288 with 1 Axes>"
      ]
     },
     "metadata": {
      "needs_background": "light"
     },
     "output_type": "display_data"
    }
   ],
   "source": [
    "plt.hist(np.sort(zn), bins = 50, density=True, label=\"Histogram of zn\")\n",
    "plt.plot(x, y, label = 'Exponential Distribution')\n",
    "plt.legend(loc='upper right')"
   ]
  },
  {
   "cell_type": "code",
   "execution_count": null,
   "metadata": {},
   "outputs": [],
   "source": []
  }
 ],
 "metadata": {
  "kernelspec": {
   "display_name": "Python 3.9.7 64-bit",
   "language": "python",
   "name": "python3"
  },
  "language_info": {
   "codemirror_mode": {
    "name": "ipython",
    "version": 3
   },
   "file_extension": ".py",
   "mimetype": "text/x-python",
   "name": "python",
   "nbconvert_exporter": "python",
   "pygments_lexer": "ipython3",
   "version": "3.9.7"
  },
  "orig_nbformat": 4,
  "vscode": {
   "interpreter": {
    "hash": "74896034db1845be5000ed9314487ee297f444d1b9bf6f172497bb9704b8efa0"
   }
  }
 },
 "nbformat": 4,
 "nbformat_minor": 2
}
