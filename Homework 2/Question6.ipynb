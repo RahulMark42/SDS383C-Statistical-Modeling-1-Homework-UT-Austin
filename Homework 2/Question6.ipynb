{
 "cells": [
  {
   "cell_type": "code",
   "execution_count": 2,
   "metadata": {},
   "outputs": [
    {
     "name": "stderr",
     "output_type": "stream",
     "text": [
      "c:\\Users\\rahul\\AppData\\Local\\Programs\\Python\\Python39\\lib\\site-packages\\scipy\\__init__.py:146: UserWarning: A NumPy version >=1.16.5 and <1.23.0 is required for this version of SciPy (detected version 1.23.3\n",
      "  warnings.warn(f\"A NumPy version >={np_minversion} and <{np_maxversion}\"\n"
     ]
    }
   ],
   "source": [
    "import numpy as np\n",
    "from scipy.stats import weibull_min\n",
    "import weibull\n",
    "from sympy import *\n",
    "from sympy.abc import k,l,x,n"
   ]
  },
  {
   "cell_type": "code",
   "execution_count": 3,
   "metadata": {},
   "outputs": [],
   "source": [
    "data = [225,171,198,189,189,135,162,135,117,162]"
   ]
  },
  {
   "cell_type": "code",
   "execution_count": 4,
   "metadata": {},
   "outputs": [],
   "source": [
    "x, i = symbols(\"x i\")\n",
    "s = Sum(log(Indexed('x',i)),(i,1,n))\n",
    "t = Sum(pow(Indexed('x',i)/l,k),(i,1,n))"
   ]
  },
  {
   "cell_type": "code",
   "execution_count": 5,
   "metadata": {},
   "outputs": [
    {
     "data": {
      "text/latex": [
       "$\\displaystyle - k n \\log{\\left(l \\right)} + n \\log{\\left(k \\right)} + \\left(k - 1\\right) \\sum_{i=1}^{n} \\log{\\left({x}_{i} \\right)} - \\sum_{i=1}^{n} \\left(\\frac{{x}_{i}}{l}\\right)^{k}$"
      ],
      "text/plain": [
       "-k*n*log(l) + n*log(k) + (k - 1)*Sum(log(x[i]), (i, 1, n)) - Sum((x[i]/l)**k, (i, 1, n))"
      ]
     },
     "execution_count": 5,
     "metadata": {},
     "output_type": "execute_result"
    }
   ],
   "source": [
    "expr = n*log(k) - k*n*log(l) + (k-1)*s - t\n",
    "expr"
   ]
  },
  {
   "cell_type": "code",
   "execution_count": 6,
   "metadata": {},
   "outputs": [],
   "source": [
    "first_derivative_k = diff(expr,k)"
   ]
  },
  {
   "cell_type": "code",
   "execution_count": 7,
   "metadata": {},
   "outputs": [],
   "source": [
    "first_derivative_l = diff(expr,l)"
   ]
  },
  {
   "cell_type": "code",
   "execution_count": 8,
   "metadata": {},
   "outputs": [],
   "source": [
    "params = weibull_min.fit(data, floc = 0)"
   ]
  },
  {
   "cell_type": "code",
   "execution_count": 9,
   "metadata": {},
   "outputs": [
    {
     "data": {
      "text/plain": [
       "(5.976913010189012, 0, 181.40556859870227)"
      ]
     },
     "execution_count": 9,
     "metadata": {},
     "output_type": "execute_result"
    }
   ],
   "source": [
    "params"
   ]
  },
  {
   "cell_type": "code",
   "execution_count": 10,
   "metadata": {},
   "outputs": [],
   "source": [
    "import math\n",
    "sum = 0\n",
    "for i in range(len(data)):\n",
    "    sum = sum + math.pow(data[i], params[0])\n",
    "lam = math.pow(sum/len(data), 1/params[0])"
   ]
  },
  {
   "cell_type": "code",
   "execution_count": 11,
   "metadata": {},
   "outputs": [
    {
     "data": {
      "text/plain": [
       "181.40553454869354"
      ]
     },
     "execution_count": 11,
     "metadata": {},
     "output_type": "execute_result"
    }
   ],
   "source": [
    "lam"
   ]
  },
  {
   "cell_type": "code",
   "execution_count": 12,
   "metadata": {},
   "outputs": [],
   "source": [
    "def find_sum_1(data, k):\n",
    "    sum1 = 0\n",
    "    for i in range(len(data)):\n",
    "        sum1 = sum1 + (np.power(data[i], k)*math.log(data[i]))\n",
    "    return sum1\n",
    "\n",
    "def find_sum_2(data, k):\n",
    "    sum2 = 0\n",
    "    for i in range(len(data)):\n",
    "        sum2 =  sum2 + np.power(data[i], k)\n",
    "    return sum2\n",
    "\n",
    "def find_sum_3(data):\n",
    "    sum3 = 0\n",
    "    for i in range(len(data)):\n",
    "        sum3 = sum3 + np.log(data[i])\n",
    "    return sum3\n",
    "\n",
    "def function_value(data, k):\n",
    "    function_value = (1/k) - (find_sum_1(data, k)/find_sum_2(data, k)) + (find_sum_3(data)/len(data))\n",
    "    return function_value\n",
    "\n",
    "def derivative_value(data, k):\n",
    "    a = find_sum_1(data, k)/(find_sum_2(data, k))\n",
    "    derivative_value = np.power(a, 2) - 2*(a) - 1/(np.power(k, 2))\n",
    "    return derivative_value"
   ]
  },
  {
   "cell_type": "code",
   "execution_count": 13,
   "metadata": {},
   "outputs": [
    {
     "data": {
      "text/plain": [
       "5.974797076433545"
      ]
     },
     "execution_count": 13,
     "metadata": {},
     "output_type": "execute_result"
    }
   ],
   "source": [
    "k = 3\n",
    "c = 0\n",
    "\n",
    "while(function_value(data, k) >= 0.0001):\n",
    "    k = k + function_value(data, k)/derivative_value(data, k)\n",
    "    c += 1\n",
    "k\n"
   ]
  },
  {
   "cell_type": "code",
   "execution_count": 14,
   "metadata": {},
   "outputs": [],
   "source": [
    "from sympy import *\n",
    "from sympy.abc import k,l,y,n\n",
    "\n",
    "y, i = symbols(\"y i\")\n",
    "s = Sum(pow(Indexed('y',i),k)*ln(Indexed('y',i)),(i,1,n))\n",
    "t = Sum(pow(Indexed('y',i),k),(i,1,n))\n",
    "u = Sum(ln(Indexed('y',i)),(i,1,n))"
   ]
  },
  {
   "cell_type": "code",
   "execution_count": 15,
   "metadata": {},
   "outputs": [],
   "source": [
    "expr = 1/k - s/t + (1/n)*u"
   ]
  },
  {
   "cell_type": "code",
   "execution_count": 16,
   "metadata": {},
   "outputs": [
    {
     "data": {
      "text/latex": [
       "$\\displaystyle - \\frac{\\sum_{i=1}^{n} \\log{\\left({y}_{i} \\right)} {y}_{i}^{k}}{\\sum_{i=1}^{n} {y}_{i}^{k}} + \\frac{\\sum_{i=1}^{n} \\log{\\left({y}_{i} \\right)}}{n} + \\frac{1}{k}$"
      ],
      "text/plain": [
       "-Sum(log(y[i])*y[i]**k, (i, 1, n))/Sum(y[i]**k, (i, 1, n)) + Sum(log(y[i]), (i, 1, n))/n + 1/k"
      ]
     },
     "execution_count": 16,
     "metadata": {},
     "output_type": "execute_result"
    }
   ],
   "source": [
    "expr"
   ]
  },
  {
   "cell_type": "code",
   "execution_count": 17,
   "metadata": {},
   "outputs": [],
   "source": [
    "derivative_needed = diff(expr, k)"
   ]
  },
  {
   "cell_type": "code",
   "execution_count": 18,
   "metadata": {},
   "outputs": [
    {
     "data": {
      "text/latex": [
       "$\\displaystyle \\frac{\\left(\\sum_{i=1}^{n} \\log{\\left({y}_{i} \\right)} {y}_{i}^{k}\\right)^{2}}{\\left(\\sum_{i=1}^{n} {y}_{i}^{k}\\right)^{2}} - \\frac{\\sum_{i=1}^{n} \\log{\\left({y}_{i} \\right)}^{2} {y}_{i}^{k}}{\\sum_{i=1}^{n} {y}_{i}^{k}} - \\frac{1}{k^{2}}$"
      ],
      "text/plain": [
       "Sum(log(y[i])*y[i]**k, (i, 1, n))**2/Sum(y[i]**k, (i, 1, n))**2 - Sum(log(y[i])**2*y[i]**k, (i, 1, n))/Sum(y[i]**k, (i, 1, n)) - 1/k**2"
      ]
     },
     "execution_count": 18,
     "metadata": {},
     "output_type": "execute_result"
    }
   ],
   "source": [
    "derivative_needed"
   ]
  },
  {
   "cell_type": "code",
   "execution_count": null,
   "metadata": {},
   "outputs": [],
   "source": []
  }
 ],
 "metadata": {
  "kernelspec": {
   "display_name": "Python 3.9.7 64-bit",
   "language": "python",
   "name": "python3"
  },
  "language_info": {
   "codemirror_mode": {
    "name": "ipython",
    "version": 3
   },
   "file_extension": ".py",
   "mimetype": "text/x-python",
   "name": "python",
   "nbconvert_exporter": "python",
   "pygments_lexer": "ipython3",
   "version": "3.9.7"
  },
  "orig_nbformat": 4,
  "vscode": {
   "interpreter": {
    "hash": "74896034db1845be5000ed9314487ee297f444d1b9bf6f172497bb9704b8efa0"
   }
  }
 },
 "nbformat": 4,
 "nbformat_minor": 2
}
