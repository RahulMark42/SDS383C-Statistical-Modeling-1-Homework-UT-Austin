{
 "cells": [
  {
   "cell_type": "code",
   "execution_count": 59,
   "metadata": {},
   "outputs": [],
   "source": [
    "# Making Necessary Imports\n",
    "import pandas as pd\n",
    "import matplotlib.pyplot as plt\n",
    "import numpy as np\n",
    "from scipy.stats import norm, multinomial\n",
    "from math import sqrt, log, exp, pi\n",
    "import pickle"
   ]
  },
  {
   "cell_type": "code",
   "execution_count": 60,
   "metadata": {},
   "outputs": [],
   "source": [
    "# Importing the dataset\n",
    "galaxies = pd.read_csv(\"galaxies.csv\")\n",
    "galaxies['x'] = galaxies['x']/1000\n",
    "velocities = galaxies['x'].tolist()"
   ]
  },
  {
   "cell_type": "code",
   "execution_count": 61,
   "metadata": {},
   "outputs": [],
   "source": [
    "#Calculate the density corresponding to each datapoint\n",
    "def calculate_ys(data, pi_k, mu_k, sigma_k, K):\n",
    "    ys = []\n",
    "    for i in range(len(data)):\n",
    "        sum = 0\n",
    "        for k in range(K):\n",
    "            sum = sum + pi_k[k]*norm.pdf(data[i], mu_k[k], sigma_k)\n",
    "        ys.append(sum)\n",
    "    return ys"
   ]
  },
  {
   "cell_type": "code",
   "execution_count": 62,
   "metadata": {},
   "outputs": [],
   "source": [
    "# Function to calculate pi_i_k\n",
    "def calculate_pi_ik(data, pi_k, mu_k, sigma_k, K):\n",
    "    pi_i_k = np.zeros((len(data), K))\n",
    "    for i in range(len(data)):\n",
    "        for k in range(K):\n",
    "            numerator = pi_k[k]*norm.pdf(data[i], mu_k[k], sigma_k)\n",
    "            denominator = 0\n",
    "            for j in range(K):\n",
    "                denominator = denominator + pi_k[j]*norm.pdf(data[i], mu_k[j], sigma_k)\n",
    "            pi_i_k[i][k] = numerator/denominator\n",
    "    return pi_i_k"
   ]
  },
  {
   "cell_type": "code",
   "execution_count": 63,
   "metadata": {},
   "outputs": [],
   "source": [
    "#Calculate the zs (label values)\n",
    "def calculate_z(data, pi_k, mu_k, sigma_k, K):\n",
    "    zi = []\n",
    "    pi_i_k = calculate_pi_ik(data, pi_k, mu_k, sigma_k, K)\n",
    "    for i in range(len(data)):\n",
    "        zi.append(np.random.multinomial(1, pi_i_k[i:][0]))\n",
    "    return zi"
   ]
  },
  {
   "cell_type": "code",
   "execution_count": 66,
   "metadata": {},
   "outputs": [],
   "source": [
    "# Calculate the likelihood value\n",
    "def calculate_q(data, pi_k, mu_k, sigma_k, K):\n",
    "    zi = calculate_z(data, pi_k, mu_k, sigma_k, K)\n",
    "    sum = 0\n",
    "    for i in range(len(data)):\n",
    "        t = np.where(zi[i] == 1)[0][0]\n",
    "        sum = sum + (-0.5*log(sigma_k**2) - ((data[i] - mu_k[t])**2)/(2*sigma_k**2) + log(pi_k[t]))\n",
    "    return sum"
   ]
  },
  {
   "cell_type": "code",
   "execution_count": 67,
   "metadata": {},
   "outputs": [],
   "source": [
    "#Update pi_k\n",
    "def update_pi_k(data, pi_k, mu_k, sigma_k, K):\n",
    "\n",
    "    zi = calculate_z(data, pi_k, mu_k, sigma_k, K)\n",
    "    pi_k = []\n",
    "    for k in range(K):\n",
    "        numerator = 0\n",
    "        for i in range(len(zi)):\n",
    "            if(zi[i][k] == 1):\n",
    "                numerator = numerator + 1\n",
    "        pi_k.append(numerator/len(data))\n",
    "    return pi_k           "
   ]
  },
  {
   "cell_type": "code",
   "execution_count": 68,
   "metadata": {},
   "outputs": [],
   "source": [
    "# Update mu_k\n",
    "def update_mu_k(data, pi_k, mu_k, sigma_k, K):\n",
    "    \n",
    "    zi = calculate_z(data, pi_k, mu_k, sigma_k, K)\n",
    "    mu_k = []\n",
    "    for k in range(K):\n",
    "        numerator = 0\n",
    "        denominator = 0\n",
    "        for i in range(len(zi)):\n",
    "            if(zi[i][k] == 1):\n",
    "                numerator = numerator + data[i]\n",
    "                denominator = denominator + 1\n",
    "        if(denominator == 0): denominator += 1\n",
    "        mu_k.append(numerator/denominator)\n",
    "    return mu_k             \n"
   ]
  },
  {
   "cell_type": "code",
   "execution_count": 69,
   "metadata": {},
   "outputs": [],
   "source": [
    "# Update sigma_k\n",
    "def update_sigma(data, pi_k, mu_k, sigma_k, K):\n",
    "    sigma_new = 0\n",
    "    zi = calculate_z(data, pi_k, mu_k, sigma_k, K)\n",
    "    for i in range(len(data)):\n",
    "        for k in range(K):\n",
    "            if(zi[i][k] == 1):\n",
    "                sigma_new = sigma_new + ((1/len(data))*(data[i] - mu_k[k])**2)\n",
    "    return sigma_new"
   ]
  },
  {
   "cell_type": "code",
   "execution_count": 70,
   "metadata": {},
   "outputs": [],
   "source": [
    "# Stochastic EM Algorithm\n",
    "def st_em_algorithm(data, K):\n",
    "    \n",
    "    pi_old = [np.random.uniform(0, 1) for _ in range(K)]\n",
    "    pi_old = np.asarray(pi_old)\n",
    "    pi_old = pi_old/np.sum(pi_old)\n",
    "    pi_old = pi_old.tolist()\n",
    "\n",
    "    mu_old = [np.random.uniform(1, 50) for _ in range(K)]\n",
    "    sigma_old = np.random.uniform(1, 10)\n",
    "\n",
    "    q_old = calculate_q(data, pi_old, mu_old, pow(sigma_old, 0.5), K)\n",
    "    q_new = 0\n",
    "    pi_new = 0\n",
    "    mu_new = 0\n",
    "    sigma_new = 0\n",
    "\n",
    "    count = 0\n",
    "\n",
    "    # E Step\n",
    "    while(abs(q_new - q_old) >= 10e-3 and count <= 100):\n",
    "\n",
    "        # M Step\n",
    "        if(count <= 20):\n",
    "            pi_new = update_pi_k(data, pi_old, mu_old, pow(sigma_old, 0.5), K)\n",
    "            mu_new = mu_old\n",
    "            sigma_new = update_sigma(data, pi_new, mu_new, pow(sigma_old, 0.5), K)\n",
    "        else:\n",
    "            pi_new = update_pi_k(data, pi_old, mu_old, pow(sigma_old, 0.5), K)\n",
    "            mu_new = update_mu_k(data, pi_new, mu_old, pow(sigma_old, 0.5), K)\n",
    "            sigma_new = update_sigma(data, pi_new, mu_new, pow(sigma_old, 0.5), K)\n",
    "\n",
    "        q_old = q_new\n",
    "        q_new = calculate_q(data, pi_new, mu_new, pow(sigma_new, 0.5), K)\n",
    "\n",
    "        pi_old = pi_new\n",
    "        sigma_old = sigma_new\n",
    "        mu_old = mu_new\n",
    "\n",
    "        count += 1\n",
    "        if(count % 10 == 0):\n",
    "            print(\"Iteration \" + str(count) + \": q_new = \" + str(q_new))\n",
    "\n",
    "    return pi_new, mu_new, pow(sigma_new, 0.5)"
   ]
  },
  {
   "cell_type": "code",
   "execution_count": 71,
   "metadata": {},
   "outputs": [],
   "source": [
    "parameters3 = st_em_algorithm(velocities, 3)"
   ]
  },
  {
   "cell_type": "code",
   "execution_count": 72,
   "metadata": {},
   "outputs": [
    {
     "name": "stdout",
     "output_type": "stream",
     "text": [
      "Iteration 10: q_new = -195.13812679898223\n",
      "Iteration 20: q_new = -174.93601407315688\n"
     ]
    }
   ],
   "source": [
    "parameters4 = st_em_algorithm(velocities, 4)"
   ]
  },
  {
   "cell_type": "code",
   "execution_count": 73,
   "metadata": {},
   "outputs": [
    {
     "name": "stdout",
     "output_type": "stream",
     "text": [
      "Iteration 10: q_new = -234.71156631591214\n"
     ]
    }
   ],
   "source": [
    "parameters5 = st_em_algorithm(velocities, 5)"
   ]
  },
  {
   "cell_type": "code",
   "execution_count": 74,
   "metadata": {},
   "outputs": [
    {
     "name": "stdout",
     "output_type": "stream",
     "text": [
      "Iteration 10: q_new = -255.79975615731294\n",
      "Iteration 20: q_new = -250.55938817397447\n",
      "Iteration 30: q_new = -208.90860802936703\n",
      "Iteration 40: q_new = -200.24505105206745\n",
      "Iteration 50: q_new = -174.80234308964813\n",
      "Iteration 60: q_new = -155.17198232172422\n"
     ]
    }
   ],
   "source": [
    "parameters6 = st_em_algorithm(velocities, 6)"
   ]
  },
  {
   "cell_type": "code",
   "execution_count": 75,
   "metadata": {},
   "outputs": [
    {
     "name": "stdout",
     "output_type": "stream",
     "text": [
      "Iteration 10: q_new = -216.7320915316561\n",
      "Iteration 20: q_new = -220.81589061289523\n"
     ]
    }
   ],
   "source": [
    "parameters7 = st_em_algorithm(velocities, 7)"
   ]
  },
  {
   "cell_type": "code",
   "execution_count": 76,
   "metadata": {},
   "outputs": [
    {
     "name": "stdout",
     "output_type": "stream",
     "text": [
      "Iteration 10: q_new = -177.6645795301497\n",
      "Iteration 20: q_new = -179.94552414980706\n",
      "Iteration 30: q_new = -144.56764408183713\n",
      "Iteration 40: q_new = -153.48530677264685\n",
      "Iteration 50: q_new = -141.72085964240046\n",
      "Iteration 60: q_new = -153.61711564272144\n",
      "Iteration 70: q_new = -157.97211786452849\n",
      "Iteration 80: q_new = -146.8325453378607\n",
      "Iteration 90: q_new = -147.73341544809014\n",
      "Iteration 100: q_new = -149.77867087594137\n"
     ]
    }
   ],
   "source": [
    "parameters8 = st_em_algorithm(velocities, 8)"
   ]
  },
  {
   "cell_type": "code",
   "execution_count": 77,
   "metadata": {},
   "outputs": [],
   "source": [
    "# Calculating the parameters\n",
    "parameters = [parameters3, parameters4, parameters5, parameters6, parameters7, parameters8]"
   ]
  },
  {
   "cell_type": "code",
   "execution_count": 78,
   "metadata": {},
   "outputs": [],
   "source": [
    "# Function to plot the values one-shot\n",
    "\n",
    "def calculate_vals_for_plot(data, values):\n",
    "    k_vals = [3,4,5,6,7,8]\n",
    "    new_ys_k = []\n",
    "    for k,value in zip(k_vals, values):\n",
    "        new_ys_k.append(calculate_ys(data, value[0], value[1], value[2], k))\n",
    "    return new_ys_k\n",
    "\n",
    "def plotter(new_ys_k, data):\n",
    "\n",
    "    fig, ax = plt.subplots(nrows=3, ncols=2, figsize = (15,15))\n",
    "    x_values = np.linspace(start = 0, stop = 35, num = 1000)\n",
    "    \n",
    "    ax[0,0].hist(data, density = True, bins = 25, label='Histogram of velocities')\n",
    "    ax[0,0].plot(x_values, new_ys_k[0], label = 'Fitted curve')\n",
    "    ax[0,0].set_title('Fitted Normal Location Scale Mixture Model with K = 3')\n",
    "    ax[0,0].set_xlabel('Velocities')\n",
    "    ax[0,0].set_ylabel('Density')\n",
    "    ax[0,0].legend(loc = 'upper right')\n",
    "\n",
    "    ax[0,1].hist(data, density = True, bins = 25, label='Histogram of velocities')\n",
    "    ax[0,1].plot(x_values, new_ys_k[1], label = 'Fitted curve')\n",
    "    ax[0,1].set_title('Fitted Normal Location Scale Mixture Model with K = 4')\n",
    "    ax[0,1].set_xlabel('Velocities')\n",
    "    ax[0,1].set_ylabel('Density')\n",
    "    ax[0,1].legend(loc = 'upper right')\n",
    "\n",
    "    ax[1,0].hist(data, density = True, bins = 25, label='Histogram of velocities')\n",
    "    ax[1,0].plot(x_values, new_ys_k[2], label = 'Fitted curve')\n",
    "    ax[1,0].set_title('Fitted Normal Location Scale Mixture Model with K = 5')\n",
    "    ax[1,0].set_xlabel('Velocities')\n",
    "    ax[1,0].set_ylabel('Density')\n",
    "    ax[1,0].legend(loc = 'upper right')\n",
    "\n",
    "    ax[1,1].hist(data, density = True, bins = 25, label='Histogram of velocities')\n",
    "    ax[1,1].plot(x_values, new_ys_k[3], label = 'Fitted curve')\n",
    "    ax[1,1].set_title('Fitted Normal Location Scale Mixture Model with K = 6')\n",
    "    ax[1,1].set_xlabel('Velocities')\n",
    "    ax[1,1].set_ylabel('Density')\n",
    "    ax[1,1].legend(loc = 'upper right')\n",
    "\n",
    "    ax[2,0].hist(data, density = True, bins = 25, label='Histogram of velocities')\n",
    "    ax[2,0].plot(x_values, new_ys_k[4], label = 'Fitted curve')\n",
    "    ax[2,0].set_title('Fitted Normal Location Scale Mixture Model with K = 7')\n",
    "    ax[2,0].set_xlabel('Velocities')\n",
    "    ax[2,0].set_ylabel('Density')\n",
    "    ax[2,0].legend(loc = 'upper right')\n",
    "\n",
    "    ax[2,1].hist(data, density = True, bins = 25, label='Histogram of velocities')\n",
    "    ax[2,1].plot(x_values, new_ys_k[5], label = 'Fitted curve')\n",
    "    ax[2,1].set_title('Fitted Normal Location Scale Mixture Model with K = 8')\n",
    "    ax[2,1].set_xlabel('Velocities')\n",
    "    ax[2,1].set_ylabel('Density')\n",
    "    ax[2,1].legend(loc = 'upper right')"
   ]
  },
  {
   "cell_type": "code",
   "execution_count": 79,
   "metadata": {},
   "outputs": [],
   "source": [
    "with open('updated_parameters_5b_2.pickle', 'wb') as file:\n",
    "    pickle.dump(parameters, file)"
   ]
  },
  {
   "cell_type": "code",
   "execution_count": 80,
   "metadata": {},
   "outputs": [],
   "source": [
    "parameters2 = None\n",
    "with open('updated_parameters_5b_2.pickle', 'rb') as file:\n",
    "    parameters2 = pickle.load(file)"
   ]
  },
  {
   "cell_type": "code",
   "execution_count": 81,
   "metadata": {},
   "outputs": [],
   "source": [
    "x = np.linspace(start = 0, stop = 35, num = 1000).tolist()\n",
    "new_y_values = calculate_vals_for_plot(x, parameters)"
   ]
  },
  {
   "cell_type": "code",
   "execution_count": 82,
   "metadata": {},
   "outputs": [
    {
     "data": {
      "image/png": "[encoded data removed]",
      "text/plain": [
       "<Figure size 1080x1080 with 6 Axes>"
      ]
     },
     "metadata": {
      "needs_background": "light"
     },
     "output_type": "display_data"
    }
   ],
   "source": [
    "plotter(new_y_values, velocities)"
   ]
  },
  {
   "cell_type": "code",
   "execution_count": 83,
   "metadata": {},
   "outputs": [],
   "source": [
    "# Calculate AIC\n",
    "def calculate_aic(data, parameters):\n",
    "    aic_k = []\n",
    "    k_vals = [3,4,5,6,7,8]\n",
    "    k_indicator = 0 \n",
    "    for param in parameters:\n",
    "        vals =  2*(-1*calculate_q(data, param[0], param[1], param[2], k_vals[k_indicator]) + k_vals[k_indicator])\n",
    "        aic_k.append(vals)\n",
    "        k_indicator +=1    \n",
    "    return aic_k"
   ]
  },
  {
   "cell_type": "code",
   "execution_count": 84,
   "metadata": {},
   "outputs": [],
   "source": [
    "aic_k = calculate_aic(velocities, parameters2)"
   ]
  },
  {
   "cell_type": "code",
   "execution_count": 85,
   "metadata": {},
   "outputs": [
    {
     "data": {
      "text/plain": [
       "[445.592073517817,\n",
       " 337.969862945876,\n",
       " 475.3588669056884,\n",
       " 322.34396464344843,\n",
       " 288.1514964613857,\n",
       " 312.3150580081916]"
      ]
     },
     "execution_count": 85,
     "metadata": {},
     "output_type": "execute_result"
    }
   ],
   "source": [
    "aic_k"
   ]
  },
  {
   "cell_type": "code",
   "execution_count": 86,
   "metadata": {},
   "outputs": [],
   "source": [
    "# Calculate BIC\n",
    "\n",
    "def calculate_bic(data, parameters):\n",
    "    bic_k = []\n",
    "    k_vals = [3,4,5,6,7,8]\n",
    "    k_indicator = 0 \n",
    "    for param in parameters:\n",
    "        vals =  -2*calculate_q(data, param[0], param[1], param[2], k_vals[k_indicator]) + k_vals[k_indicator]*log(len(data))\n",
    "        bic_k.append(vals)\n",
    "        k_indicator +=1    \n",
    "    return bic_k"
   ]
  },
  {
   "cell_type": "code",
   "execution_count": 87,
   "metadata": {},
   "outputs": [
    {
     "data": {
      "text/plain": [
       "[452.8122312596098,\n",
       " 347.596739934933,\n",
       " 487.39246314200966,\n",
       " 336.784280127034,\n",
       " 312.5526698778936,\n",
       " 346.4431622586945]"
      ]
     },
     "execution_count": 87,
     "metadata": {},
     "output_type": "execute_result"
    }
   ],
   "source": [
    "bic_k = calculate_bic(velocities, parameters2)\n",
    "bic_k"
   ]
  },
  {
   "cell_type": "code",
   "execution_count": null,
   "metadata": {},
   "outputs": [],
   "source": []
  }
 ],
 "metadata": {
  "kernelspec": {
   "display_name": "Python 3.9.7 64-bit",
   "language": "python",
   "name": "python3"
  },
  "language_info": {
   "codemirror_mode": {
    "name": "ipython",
    "version": 3
   },
   "file_extension": ".py",
   "mimetype": "text/x-python",
   "name": "python",
   "nbconvert_exporter": "python",
   "pygments_lexer": "ipython3",
   "version": "3.9.7"
  },
  "orig_nbformat": 4,
  "vscode": {
   "interpreter": {
    "hash": "74896034db1845be5000ed9314487ee297f444d1b9bf6f172497bb9704b8efa0"
   }
  }
 },
 "nbformat": 4,
 "nbformat_minor": 2
}
