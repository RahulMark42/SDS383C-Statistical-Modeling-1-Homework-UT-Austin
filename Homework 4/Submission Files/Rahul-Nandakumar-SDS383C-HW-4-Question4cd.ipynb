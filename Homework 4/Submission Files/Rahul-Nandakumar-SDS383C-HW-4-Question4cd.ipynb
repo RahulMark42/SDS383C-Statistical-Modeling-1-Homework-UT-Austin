{
 "cells": [
  {
   "cell_type": "code",
   "execution_count": 22,
   "metadata": {},
   "outputs": [],
   "source": [
    "# Making Necessary Imports\n",
    "import pandas as pd\n",
    "import matplotlib.pyplot as plt\n",
    "import numpy as np\n",
    "from scipy.stats import norm\n",
    "from math import sqrt, log, exp, pi\n",
    "import seaborn as sns\n",
    "import pickle"
   ]
  },
  {
   "cell_type": "code",
   "execution_count": 23,
   "metadata": {},
   "outputs": [],
   "source": [
    "# Importing the dataset\n",
    "galaxies = pd.read_csv(\"galaxies.csv\")\n",
    "galaxies['x'] = galaxies['x']/1000\n",
    "velocities = galaxies['x'].tolist()"
   ]
  },
  {
   "cell_type": "code",
   "execution_count": 24,
   "metadata": {},
   "outputs": [],
   "source": [
    "#Calculate the density corresponding to each datapoint\n",
    "def calculate_ys(data, pi_k, mu_k, sigma_k, K):\n",
    "    ys = []\n",
    "    for i in range(len(data)):\n",
    "        sum = 0\n",
    "        for k in range(K):\n",
    "            sum = sum + pi_k[k]*norm.pdf(data[i], mu_k[k], sigma_k[k])\n",
    "        ys.append(sum)\n",
    "    return ys\n"
   ]
  },
  {
   "cell_type": "code",
   "execution_count": 25,
   "metadata": {},
   "outputs": [],
   "source": [
    "# Function to calculate pi_i_k\n",
    "def calculate_pi_ik(data, pi_k, mu_k, sigma_k, K):\n",
    "    pi_i_k = np.zeros((len(data), K))\n",
    "    for i in range(len(data)):\n",
    "        for k in range(K):\n",
    "            numerator = pi_k[k]*norm.pdf(data[i], mu_k[k], sigma_k[k])\n",
    "            denominator = 0\n",
    "            for j in range(K):\n",
    "                denominator = denominator + pi_k[j]*norm.pdf(data[i], mu_k[j], sigma_k[j])\n",
    "            pi_i_k[i][k] = numerator/denominator\n",
    "    return pi_i_k\n"
   ]
  },
  {
   "cell_type": "code",
   "execution_count": 26,
   "metadata": {},
   "outputs": [],
   "source": [
    "# Calculate the Likelihood Q value.\n",
    "\n",
    "def calculate_q(data, pi_k, mu_k, sigma_k, K):\n",
    "    sum = 0\n",
    "    pi_i_k = calculate_pi_ik(data, pi_k, mu_k, sigma_k, K)\n",
    "    for i in range(len(data)):\n",
    "        for k in range(K):\n",
    "            sum = sum + pi_i_k[i][k]*(-0.5*log(sigma_k[k]**2) - ((data[i] - mu_k[k])**2/(2*(sigma_k[k]**2))) + log(pi_k[k]))\n",
    "    return sum\n"
   ]
  },
  {
   "cell_type": "code",
   "execution_count": 27,
   "metadata": {},
   "outputs": [],
   "source": [
    "# Function to update the pi_k value\n",
    "\n",
    "def update_pi_k(data, pi_k, mu_k, sigma_k, K):\n",
    "    pi_k_new = []\n",
    "    pi_i_k = calculate_pi_ik(data, pi_k, mu_k, sigma_k, K)\n",
    "    for k in range(K):\n",
    "        numerator = 0\n",
    "        for i in range(len(data)):\n",
    "            numerator = numerator + pi_i_k[i][k]\n",
    "        denominator = 0\n",
    "        for j in range(K):\n",
    "            for l in range(len(data)):\n",
    "                denominator = denominator + pi_i_k[l][k]\n",
    "        pi_k_new.append(numerator/denominator)\n",
    "    return pi_k_new"
   ]
  },
  {
   "cell_type": "code",
   "execution_count": 28,
   "metadata": {},
   "outputs": [],
   "source": [
    "# Function to update the mu_k value\n",
    "\n",
    "def update_mu_k(data, pi_k, mu_k, sigma_k, K):\n",
    "    mu_k_new = []\n",
    "    pi_i_k = calculate_pi_ik(data, pi_k, mu_k, sigma_k, K)\n",
    "    for k in range(K):\n",
    "        numerator = 0\n",
    "        for i in range(len(data)):\n",
    "            numerator = numerator + pi_i_k[i][k]*data[i]\n",
    "        denominator = 0\n",
    "        for i in range(len(data)):\n",
    "            denominator = denominator + pi_i_k[i][k]\n",
    "\n",
    "        mu_k_new.append(numerator/denominator)\n",
    "    return mu_k_new"
   ]
  },
  {
   "cell_type": "code",
   "execution_count": 29,
   "metadata": {},
   "outputs": [],
   "source": [
    "# Function to update the sigma value\n",
    "\n",
    "def update_sigma_k(data, pi_k, mu_k, sigma_k, K):\n",
    "    sigma_k_new = []\n",
    "    pi_i_k = calculate_pi_ik(data, pi_k, mu_k, sigma_k, K)\n",
    "    for k in range(K):\n",
    "        numerator = 0\n",
    "        for i in range(len(data)):\n",
    "            numerator = numerator +  pi_i_k[i][k]*(data[i] - mu_k[k])**2\n",
    "        denominator = 0\n",
    "        for i in range(len(data)):\n",
    "            denominator = denominator + pi_i_k[i][k]\n",
    "        sigma_k_new.append(numerator/denominator)\n",
    "    return sigma_k_new\n"
   ]
  },
  {
   "cell_type": "code",
   "execution_count": 30,
   "metadata": {},
   "outputs": [],
   "source": [
    "# EM Algorithm implementation\n",
    "def em_algorithm(data, K):\n",
    "\n",
    "    pi_old = [np.random.uniform(0, 1) for _ in range(K)]\n",
    "    pi_old = np.asarray(pi_old)\n",
    "    pi_old = pi_old/np.sum(pi_old)\n",
    "    pi_old = pi_old.tolist()\n",
    "\n",
    "    mu_old = [np.random.uniform(0, 30) for _ in range(K)]\n",
    "    sigma_old = [np.random.uniform(0, 30) for _ in range(K)]\n",
    "\n",
    "    pi_new = None\n",
    "    mu_new = None\n",
    "    sigma_new = None\n",
    "\n",
    "    q_old = calculate_q(data, pi_old, mu_old, np.sqrt(sigma_old).tolist(), K)\n",
    "    q_new = 1\n",
    "\n",
    "    count = 0\n",
    "\n",
    "     # E Step\n",
    "    while(abs(q_old - q_new) >= 10e-4):\n",
    "\n",
    "         # M Step\n",
    "        if(count <= 20):\n",
    "            pi_new = update_pi_k(data, pi_old, mu_old, np.sqrt(sigma_old).tolist(), K)\n",
    "            mu_new = mu_old\n",
    "            sigma_new = update_sigma_k(data, pi_new, mu_new, np.sqrt(sigma_old).tolist(), K)\n",
    "\n",
    "        else:\n",
    "            pi_new = update_pi_k(data, pi_old, mu_old, np.sqrt(sigma_old).tolist(), K)\n",
    "            mu_new = update_mu_k(data, pi_new, mu_old, np.sqrt(sigma_old).tolist(), K)\n",
    "            sigma_new = update_sigma_k(data, pi_new, mu_new, np.sqrt(sigma_old).tolist(), K)\n",
    "\n",
    "\n",
    "        q_old = q_new\n",
    "        q_new = calculate_q(data, pi_new, mu_new, np.sqrt(sigma_new).tolist(), K)\n",
    "\n",
    "        pi_old = pi_new\n",
    "        sigma_old = sigma_new\n",
    "        mu_old = mu_new\n",
    "        count = count + 1\n",
    "        if(count % 10 == 0):\n",
    "            print(\"Iteration \" + str(count) + \": q_new = \" + str(q_new))\n",
    "\n",
    "    return pi_new, mu_new, np.sqrt(sigma_new).tolist()"
   ]
  },
  {
   "cell_type": "code",
   "execution_count": 31,
   "metadata": {},
   "outputs": [],
   "source": [
    "# Function to calculate all the parameters one-shot\n",
    "\n",
    "def calculate_parameters(data):\n",
    "    parameters = []\n",
    "    k_vals = [3,4,5,6,7,8]\n",
    "    for k in k_vals:\n",
    "        parameters.append(em_algorithm(data, k))\n",
    "    return parameters"
   ]
  },
  {
   "cell_type": "code",
   "execution_count": 32,
   "metadata": {},
   "outputs": [
    {
     "name": "stdout",
     "output_type": "stream",
     "text": [
      "Iteration 10: q_new = -212.97396404533023\n",
      "Iteration 10: q_new = -328.0942725679142\n",
      "Iteration 20: q_new = -339.2888950144005\n",
      "Iteration 10: q_new = -320.82257436931997\n",
      "Iteration 20: q_new = -321.14940001456546\n",
      "Iteration 10: q_new = -279.672942343316\n",
      "Iteration 20: q_new = -278.1007887380183\n",
      "Iteration 30: q_new = -232.21001586708348\n",
      "Iteration 40: q_new = -230.4153542530975\n",
      "Iteration 50: q_new = -229.24621235259772\n",
      "Iteration 60: q_new = -228.30951010755908\n",
      "Iteration 70: q_new = -227.4538522577529\n",
      "Iteration 80: q_new = -226.5391843831034\n",
      "Iteration 90: q_new = -225.34740599748724\n",
      "Iteration 100: q_new = -223.46747507873675\n",
      "Iteration 110: q_new = -220.18277631734856\n",
      "Iteration 120: q_new = -214.99819263377228\n",
      "Iteration 130: q_new = -209.4414316122564\n",
      "Iteration 140: q_new = -208.29140384352155\n",
      "Iteration 150: q_new = -210.0219922787452\n",
      "Iteration 160: q_new = -211.0506091859309\n",
      "Iteration 170: q_new = -211.58454421068265\n",
      "Iteration 180: q_new = -211.8760673600171\n",
      "Iteration 190: q_new = -212.013738306463\n",
      "Iteration 200: q_new = -212.05279382369795\n",
      "Iteration 10: q_new = -308.2766565456181\n",
      "Iteration 20: q_new = -307.7125094651028\n",
      "Iteration 30: q_new = -277.17289343234825\n",
      "Iteration 40: q_new = -275.17843455924407\n",
      "Iteration 50: q_new = -268.775659085436\n",
      "Iteration 60: q_new = -244.832651581451\n",
      "Iteration 70: q_new = -242.67023532644168\n",
      "Iteration 80: q_new = -236.82581334735346\n",
      "Iteration 90: q_new = -233.4089059315086\n",
      "Iteration 100: q_new = -232.30065164192507\n",
      "Iteration 110: q_new = -231.61966812649916\n",
      "Iteration 120: q_new = -231.1430342237985\n",
      "Iteration 130: q_new = -230.52712276028424\n",
      "Iteration 140: q_new = -229.38703703429817\n",
      "Iteration 150: q_new = -226.46233543651158\n",
      "Iteration 160: q_new = -222.96453730056427\n",
      "Iteration 170: q_new = -221.5225403204167\n",
      "Iteration 180: q_new = -220.4485252487791\n",
      "Iteration 190: q_new = -219.52688879409214\n",
      "Iteration 200: q_new = -218.65581966042998\n",
      "Iteration 210: q_new = -217.80185509111294\n",
      "Iteration 220: q_new = -216.95881486578608\n",
      "Iteration 230: q_new = -216.1274279608615\n",
      "Iteration 240: q_new = -215.30474473782664\n",
      "Iteration 250: q_new = -214.47892862209855\n",
      "Iteration 260: q_new = -213.6284279777087\n",
      "Iteration 270: q_new = -212.72663349138526\n",
      "Iteration 280: q_new = -211.7558577898972\n",
      "Iteration 290: q_new = -210.73071111877712\n",
      "Iteration 300: q_new = -209.70810567250612\n",
      "Iteration 310: q_new = -208.7455010227563\n",
      "Iteration 320: q_new = -207.82478965653203\n",
      "Iteration 330: q_new = -206.79743790192683\n",
      "Iteration 340: q_new = -205.28189842796934\n",
      "Iteration 350: q_new = -202.23345384376645\n",
      "Iteration 360: q_new = -195.81693304723404\n",
      "Iteration 370: q_new = -189.71354680830171\n",
      "Iteration 380: q_new = -187.98987635464772\n",
      "Iteration 390: q_new = -187.65234983406674\n",
      "Iteration 400: q_new = -187.61189407387445\n"
     ]
    }
   ],
   "source": [
    "# Calculating all parameters\n",
    "\n",
    "parameters = calculate_parameters(velocities)"
   ]
  },
  {
   "cell_type": "code",
   "execution_count": 33,
   "metadata": {},
   "outputs": [],
   "source": [
    "# Function to plot the values one-shot\n",
    "\n",
    "def calculate_vals_for_plot(data, values):\n",
    "    k_vals = [3,4,5,6,7,8]\n",
    "    new_ys_k = []\n",
    "    for k,value in zip(k_vals, values):\n",
    "        new_ys_k.append(calculate_ys(data, value[0], value[1], value[2], k))\n",
    "    return new_ys_k\n",
    "\n",
    "\n",
    "def plotter(new_ys_k, data):\n",
    "\n",
    "    fig, ax = plt.subplots(nrows=3, ncols=2, figsize = (15,15))\n",
    "    x_values = np.linspace(start = 0, stop = 35, num = 1000)\n",
    "    \n",
    "    ax[0,0].hist(data, density = True, bins = 25, label='Histogram of velocities')\n",
    "    ax[0,0].plot(x_values, new_ys_k[0], label = 'Fitted curve')\n",
    "    ax[0,0].set_title('Fitted Normal Scale Location Mixture Model with K = 3')\n",
    "    ax[0,0].set_xlabel('Velocities')\n",
    "    ax[0,0].set_ylabel('Density')\n",
    "    ax[0,0].legend(loc = 'upper right')\n",
    "\n",
    "    ax[0,1].hist(data, density = True, bins = 25, label='Histogram of velocities')\n",
    "    ax[0,1].plot(x_values, new_ys_k[1], label = 'Fitted curve')\n",
    "    ax[0,1].set_title('Fitted Normal Scale Location Mixture Model with K = 4')\n",
    "    ax[0,1].set_xlabel('Velocities')\n",
    "    ax[0,1].set_ylabel('Density')\n",
    "    ax[0,1].legend(loc = 'upper right')\n",
    "\n",
    "    ax[1,0].hist(data, density = True, bins = 25, label='Histogram of velocities')\n",
    "    ax[1,0].plot(x_values, new_ys_k[2], label = 'Fitted curve')\n",
    "    ax[1,0].set_title('Fitted Normal Scale Location Mixture Model with K = 5')\n",
    "    ax[1,0].set_xlabel('Velocities')\n",
    "    ax[1,0].set_ylabel('Density')\n",
    "    ax[1,0].legend(loc = 'upper right')\n",
    "\n",
    "    ax[1,1].hist(data, density = True, bins = 25, label='Histogram of velocities')\n",
    "    ax[1,1].plot(x_values, new_ys_k[3], label = 'Fitted curve')\n",
    "    ax[1,1].set_title('Fitted Normal Scale Location Mixture Model with K = 6')\n",
    "    ax[1,1].set_xlabel('Velocities')\n",
    "    ax[1,1].set_ylabel('Density')\n",
    "    ax[1,1].legend(loc = 'upper right')\n",
    "\n",
    "    ax[2,0].hist(data, density = True, bins = 25, label='Histogram of velocities')\n",
    "    ax[2,0].plot(x_values, new_ys_k[4], label = 'Fitted curve')\n",
    "    ax[2,0].set_title('Fitted Normal Scale Location Mixture Model with K = 7')\n",
    "    ax[2,0].set_xlabel('Velocities')\n",
    "    ax[2,0].set_ylabel('Density')\n",
    "    ax[2,0].legend(loc = 'upper right')\n",
    "\n",
    "    ax[2,1].hist(data, density = True, bins = 25, label='Histogram of velocities')\n",
    "    ax[2,1].plot(x_values, new_ys_k[5], label = 'Fitted curve')\n",
    "    ax[2,1].set_title('Fitted Normal Scale Location Mixture Model with K = 8')\n",
    "    ax[2,1].set_xlabel('Velocities')\n",
    "    ax[2,1].set_ylabel('Density')\n",
    "    ax[2,1].legend(loc = 'upper right')"
   ]
  },
  {
   "cell_type": "code",
   "execution_count": 34,
   "metadata": {},
   "outputs": [],
   "source": [
    "# Saving the parameters for future use.\n",
    "\n",
    "with open('updated_parameters_cd.pickle', 'wb') as file:\n",
    "    pickle.dump(parameters, file)"
   ]
  },
  {
   "cell_type": "code",
   "execution_count": 35,
   "metadata": {},
   "outputs": [],
   "source": [
    "parameters2 = None\n",
    "with open('updated_parameters_cd.pickle', 'rb') as file:\n",
    "    parameters2 = pickle.load(file)"
   ]
  },
  {
   "cell_type": "code",
   "execution_count": 36,
   "metadata": {},
   "outputs": [],
   "source": [
    "x = np.linspace(start = 0, stop = 35, num = 1000).tolist()\n",
    "new_y_values = calculate_vals_for_plot(x, parameters)"
   ]
  },
  {
   "cell_type": "code",
   "execution_count": 37,
   "metadata": {},
   "outputs": [
    {
     "data": {
      "image/png": "[encoded data removed]",
      "text/plain": [
       "<Figure size 1080x1080 with 6 Axes>"
      ]
     },
     "metadata": {
      "needs_background": "light"
     },
     "output_type": "display_data"
    }
   ],
   "source": [
    "# Plots of fitted curves vs actual distribution.\n",
    "\n",
    "plotter(new_y_values, velocities)"
   ]
  },
  {
   "cell_type": "code",
   "execution_count": 38,
   "metadata": {},
   "outputs": [],
   "source": [
    "# Function to calculate AIC\n",
    "\n",
    "def calculate_aic(data, parameters):\n",
    "    aic_k = []\n",
    "    k_vals = [3,4,5,6,7,8]\n",
    "    k_indicator = 0 \n",
    "    for param in parameters:\n",
    "        vals =  2*(-1*calculate_q(data, param[0], param[1], param[2], k_vals[k_indicator]) + k_vals[k_indicator])\n",
    "        aic_k.append(vals)\n",
    "        k_indicator +=1    \n",
    "    return aic_k"
   ]
  },
  {
   "cell_type": "code",
   "execution_count": 39,
   "metadata": {},
   "outputs": [],
   "source": [
    "aic_k = calculate_aic(velocities, parameters2)"
   ]
  },
  {
   "cell_type": "code",
   "execution_count": 40,
   "metadata": {},
   "outputs": [
    {
     "data": {
      "text/plain": [
       "[431.94792809066047,\n",
       " 686.576928699443,\n",
       " 617.8338582941506,\n",
       " 654.3003678996872,\n",
       " 438.1055876473959,\n",
       " 391.2237881477489]"
      ]
     },
     "execution_count": 40,
     "metadata": {},
     "output_type": "execute_result"
    }
   ],
   "source": [
    "aic_k"
   ]
  },
  {
   "cell_type": "code",
   "execution_count": 41,
   "metadata": {},
   "outputs": [],
   "source": [
    "# Function to calculate BIC\n",
    "\n",
    "def calculate_bic(data, parameters):\n",
    "    bic_k = []\n",
    "    k_vals = [3,4,5,6,7,8]\n",
    "    k_indicator = 0 \n",
    "    for param in parameters:\n",
    "        vals =  -2*calculate_q(data, param[0], param[1], param[2], k_vals[k_indicator]) + k_vals[k_indicator]*log(len(data))\n",
    "        bic_k.append(vals)\n",
    "        k_indicator +=1    \n",
    "    return bic_k"
   ]
  },
  {
   "cell_type": "code",
   "execution_count": 42,
   "metadata": {},
   "outputs": [
    {
     "data": {
      "text/plain": [
       "[439.16808583245324,\n",
       " 696.2038056885,\n",
       " 629.8674545304718,\n",
       " 668.7406833832728,\n",
       " 454.9526223782457,\n",
       " 410.47754212586295]"
      ]
     },
     "execution_count": 42,
     "metadata": {},
     "output_type": "execute_result"
    }
   ],
   "source": [
    "bic_k = calculate_bic(velocities, parameters2)\n",
    "bic_k"
   ]
  },
  {
   "cell_type": "code",
   "execution_count": null,
   "metadata": {},
   "outputs": [],
   "source": []
  }
 ],
 "metadata": {
  "kernelspec": {
   "display_name": "Python 3.9.7 64-bit",
   "language": "python",
   "name": "python3"
  },
  "language_info": {
   "codemirror_mode": {
    "name": "ipython",
    "version": 3
   },
   "file_extension": ".py",
   "mimetype": "text/x-python",
   "name": "python",
   "nbconvert_exporter": "python",
   "pygments_lexer": "ipython3",
   "version": "3.9.7"
  },
  "orig_nbformat": 4,
  "vscode": {
   "interpreter": {
    "hash": "74896034db1845be5000ed9314487ee297f444d1b9bf6f172497bb9704b8efa0"
   }
  }
 },
 "nbformat": 4,
 "nbformat_minor": 2
}
