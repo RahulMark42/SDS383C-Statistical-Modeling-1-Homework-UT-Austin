{
 "cells": [
  {
   "cell_type": "code",
   "execution_count": 1,
   "metadata": {},
   "outputs": [],
   "source": [
    "# Making Necessary Imports\n",
    "\n",
    "import pandas as pd\n",
    "import matplotlib.pyplot as plt\n",
    "import numpy as np\n",
    "from scipy.stats import norm\n",
    "from math import sqrt, log, exp, pi\n",
    "import seaborn as sns\n",
    "import pickle"
   ]
  },
  {
   "cell_type": "code",
   "execution_count": null,
   "metadata": {},
   "outputs": [],
   "source": [
    "# Importing the dataset\n",
    "\n",
    "galaxies = pd.read_csv(\"galaxies.csv\")"
   ]
  },
  {
   "cell_type": "code",
   "execution_count": null,
   "metadata": {},
   "outputs": [],
   "source": [
    "galaxies['x'] = galaxies['x']/1000"
   ]
  },
  {
   "cell_type": "code",
   "execution_count": null,
   "metadata": {},
   "outputs": [],
   "source": [
    "velocities = galaxies['x']"
   ]
  },
  {
   "cell_type": "code",
   "execution_count": null,
   "metadata": {},
   "outputs": [],
   "source": [
    "plt.hist(velocities, bins = 25, density=True)"
   ]
  },
  {
   "cell_type": "code",
   "execution_count": null,
   "metadata": {},
   "outputs": [],
   "source": [
    "# Function to calculate pi_i_k\n",
    "\n",
    "def calculate_pi_ik(data, pi_vals, mu_k, sigma, K):\n",
    "    pi_i_k = np.zeros((len(data), K))\n",
    "    for i in range(len(data)):\n",
    "        for k in range(K):\n",
    "            numerator = pi_vals[k]*norm.pdf(data[i], mu_k[k], sigma)\n",
    "            denominator = 0\n",
    "            for j in range(K):\n",
    "                denominator = denominator + pi_vals[j]*norm.pdf(data[i], mu_k[j], sigma)\n",
    "            pi_i_k[i][k] = numerator/denominator\n",
    "    return pi_i_k"
   ]
  },
  {
   "cell_type": "code",
   "execution_count": null,
   "metadata": {},
   "outputs": [],
   "source": [
    "#Calculate the density corresponding to each datapoint\n",
    "\n",
    "def calculate_ys(data, pi_vals, mu_k, sigma, K):\n",
    "    ys = []\n",
    "    for i in range(len(data)):\n",
    "        sum = 0\n",
    "        for k in range(K):\n",
    "            sum = sum + pi_vals[k]*norm.pdf(data[i], mu_k[k], sigma)\n",
    "        ys.append(sum)\n",
    "    return ys"
   ]
  },
  {
   "cell_type": "code",
   "execution_count": null,
   "metadata": {},
   "outputs": [],
   "source": [
    "# Calculate the Likelihood Q value.\n",
    "\n",
    "def calculate_q(data, pi_vals, mu_k, sigma, K):\n",
    "    pi_i_k = calculate_pi_ik(data, pi_vals, mu_k, sigma, K)\n",
    "    sum = 0\n",
    "    for i in range(len(data)):\n",
    "        for k in range(K):\n",
    "            sum = sum + pi_i_k[i][k]*(-0.5*log(sigma**2) - ((data[i] - mu_k[k])**2)/(2*sigma**2) + log(pi_vals[k]))\n",
    "    return sum "
   ]
  },
  {
   "cell_type": "code",
   "execution_count": null,
   "metadata": {},
   "outputs": [],
   "source": [
    "# Function to update the pi_k value\n",
    "\n",
    "def update_pi_k(data, pi_vals, mu_k, sigma, K):\n",
    "    pi_k_new = []\n",
    "    pi_i_k = calculate_pi_ik(data, pi_vals, mu_k, sigma, K)\n",
    "    for k in range(K):\n",
    "        numerator = 0\n",
    "        for i in range(len(data)):\n",
    "            numerator = numerator + pi_i_k[i][k]\n",
    "        denominator = 0\n",
    "        for j in range(K):\n",
    "            for i in range(len(data)):\n",
    "                denominator = denominator + pi_i_k[i][j]\n",
    "        pi_k_new.append(numerator/denominator)\n",
    "\n",
    "    return pi_k_new"
   ]
  },
  {
   "cell_type": "code",
   "execution_count": null,
   "metadata": {},
   "outputs": [],
   "source": [
    "# Function to update the mu_k value\n",
    "\n",
    "def update_mu_k(data, pi_vals, mu_k, sigma, K):\n",
    "    mu_k_new = []\n",
    "    pi_i_k = calculate_pi_ik(data, pi_vals, mu_k, sigma, K)\n",
    "    for k in range(K):\n",
    "        numerator = 0\n",
    "        for i in range(len(data)):\n",
    "            numerator = numerator + pi_i_k[i][k]*data[i]\n",
    "        denominator = 0\n",
    "        for i in range(len(data)):\n",
    "            denominator = denominator + pi_i_k[i][k]\n",
    "        mu_k_new.append(numerator/denominator)\n",
    "    return mu_k_new\n"
   ]
  },
  {
   "cell_type": "code",
   "execution_count": null,
   "metadata": {},
   "outputs": [],
   "source": [
    "# Function to update the sigma value\n",
    "\n",
    "def update_sigma(data, pi_vals, mu_k, sigma, K):\n",
    "    sigma_new = 0\n",
    "    pi_i_k = calculate_pi_ik(data, pi_vals, mu_k, sigma, K)\n",
    "    for i in range(len(data)):\n",
    "        for k in range(K):\n",
    "            sigma_new = sigma_new + ((pi_i_k[i][k]/len(data))*(data[i] - mu_k[k])**2)\n",
    "    return sigma_new"
   ]
  },
  {
   "cell_type": "code",
   "execution_count": null,
   "metadata": {},
   "outputs": [],
   "source": [
    "# EM Algorithm implementation\n",
    "\n",
    "def em_algorithm(data, K):\n",
    "    \n",
    "    # Initializing random values for the parameters\n",
    "    pi_old = [np.random.uniform(0, 1) for _ in range(K)]\n",
    "    pi_old = np.asarray(pi_old)\n",
    "    pi_old = pi_old/np.sum(pi_old)\n",
    "    pi_old = pi_old.tolist()\n",
    "\n",
    "    mu_old = [np.random.uniform(0, 30) for _ in range(K)]\n",
    "    sigma_old = np.random.uniform(0, 100)\n",
    "\n",
    "    q_old = calculate_q(data, pi_old, mu_old, pow(sigma_old, 0.5), K)\n",
    "    q_new = 0\n",
    "    pi_new = 0\n",
    "    mu_new = 0\n",
    "    sigma_new = 0\n",
    "\n",
    "    count = 0\n",
    "\n",
    "    # E step\n",
    "    while(abs(q_new - q_old) >= 10e-4):\n",
    "\n",
    "        # M Step\n",
    "        if(count <= 20):\n",
    "            pi_new = update_pi_k(data, pi_old, mu_old, pow(sigma_old, 0.5), K)\n",
    "            mu_new = mu_old\n",
    "            sigma_new = update_sigma(data, pi_new, mu_new, pow(sigma_old, 0.5), K)\n",
    "        else:\n",
    "            pi_new = update_pi_k(data, pi_old, mu_old, pow(sigma_old, 0.5), K)\n",
    "            mu_new = update_mu_k(data, pi_new, mu_old, pow(sigma_old, 0.5), K)\n",
    "            sigma_new = update_sigma(data, pi_new, mu_new, pow(sigma_old, 0.5), K)\n",
    "\n",
    "        q_old = q_new\n",
    "        q_new = calculate_q(data, pi_new, mu_new, pow(sigma_new, 0.5), K)\n",
    "\n",
    "        pi_old = pi_new\n",
    "        sigma_old = sigma_new\n",
    "        mu_old = mu_new\n",
    "\n",
    "        count += 1\n",
    "        if(count % 10 == 0):\n",
    "            print(\"Iteration \" + str(count) + \": q_new = \" + str(q_new))\n",
    "\n",
    "    return pi_new, mu_new, pow(sigma_new, 0.5)"
   ]
  },
  {
   "cell_type": "code",
   "execution_count": null,
   "metadata": {},
   "outputs": [],
   "source": [
    "# Function to calculate all the parameters one-shot\n",
    "def calculate_parameters(data):\n",
    "    parameters = []\n",
    "    k_vals = [4,6,8,11,15,20]\n",
    "    for k in k_vals:\n",
    "        parameters.append(em_algorithm(data, k))\n",
    "    return parameters"
   ]
  },
  {
   "cell_type": "code",
   "execution_count": null,
   "metadata": {},
   "outputs": [],
   "source": [
    "# Function to plot the values one-shot\n",
    "\n",
    "def calculate_vals_for_plot(data, values):\n",
    "    k_vals = [4,6,8,11,15,20]\n",
    "    new_ys_k = []\n",
    "    for k,value in zip(k_vals, values):\n",
    "        new_ys_k.append(calculate_ys(data, value[0], value[1], value[2], k))\n",
    "    return new_ys_k\n",
    "\n",
    "def plotter(new_ys_k, data):\n",
    "\n",
    "    fig, ax = plt.subplots(nrows=3, ncols=2, figsize = (15,15))\n",
    "    x_values = np.linspace(start = 0, stop = 35, num = 1000)\n",
    "    \n",
    "    ax[0,0].hist(data, density = True, bins = 25, label='Histogram of velocities')\n",
    "    ax[0,0].plot(x_values, new_ys_k[0], label = 'Fitted curve')\n",
    "    ax[0,0].set_title('Fitted Normal Location Mixture Model with K = 4')\n",
    "    ax[0,0].set_xlabel('Velocities')\n",
    "    ax[0,0].set_ylabel('Density')\n",
    "    ax[0,0].legend(loc = 'upper right')\n",
    "\n",
    "    ax[0,1].hist(data, density = True, bins = 25, label='Histogram of velocities')\n",
    "    ax[0,1].plot(x_values, new_ys_k[1], label = 'Fitted curve')\n",
    "    ax[0,1].set_title('Fitted Normal Location Mixture Model with K = 6')\n",
    "    ax[0,1].set_xlabel('Velocities')\n",
    "    ax[0,1].set_ylabel('Density')\n",
    "    ax[0,1].legend(loc = 'upper right')\n",
    "\n",
    "    ax[1,0].hist(data, density = True, bins = 25, label='Histogram of velocities')\n",
    "    ax[1,0].plot(x_values, new_ys_k[2], label = 'Fitted curve')\n",
    "    ax[1,0].set_title('Fitted Normal Location Mixture Model with K = 8')\n",
    "    ax[1,0].set_xlabel('Velocities')\n",
    "    ax[1,0].set_ylabel('Density')\n",
    "    ax[1,0].legend(loc = 'upper right')\n",
    "\n",
    "    ax[1,1].hist(data, density = True, bins = 25, label='Histogram of velocities')\n",
    "    ax[1,1].plot(x_values, new_ys_k[3], label = 'Fitted curve')\n",
    "    ax[1,1].set_title('Fitted Normal Location Mixture Model with K = 11')\n",
    "    ax[1,1].set_xlabel('Velocities')\n",
    "    ax[1,1].set_ylabel('Density')\n",
    "    ax[1,1].legend(loc = 'upper right')\n",
    "\n",
    "    ax[2,0].hist(data, density = True, bins = 25, label='Histogram of velocities')\n",
    "    ax[2,0].plot(x_values, new_ys_k[4], label = 'Fitted curve')\n",
    "    ax[2,0].set_title('Fitted Normal Location Mixture Model with K = 15')\n",
    "    ax[2,0].set_xlabel('Velocities')\n",
    "    ax[2,0].set_ylabel('Density')\n",
    "    ax[2,0].legend(loc = 'upper right')\n",
    "\n",
    "    ax[2,1].hist(data, density = True, bins = 25, label='Histogram of velocities')\n",
    "    ax[2,1].plot(x_values, new_ys_k[5], label = 'Fitted curve')\n",
    "    ax[2,1].set_title('Fitted Normal Location Mixture Model with K = 20')\n",
    "    ax[2,1].set_xlabel('Velocities')\n",
    "    ax[2,1].set_ylabel('Density')\n",
    "    ax[2,1].legend(loc = 'upper right')"
   ]
  },
  {
   "cell_type": "code",
   "execution_count": null,
   "metadata": {},
   "outputs": [],
   "source": [
    "# Calculating all parameters\n",
    "parameters = calculate_parameters(velocities)"
   ]
  },
  {
   "cell_type": "code",
   "execution_count": null,
   "metadata": {},
   "outputs": [],
   "source": [
    "# Saving the parameters for future use. \n",
    "with open('updated_parameters.pickle', 'wb') as file:\n",
    "    pickle.dump(parameters, file)"
   ]
  },
  {
   "cell_type": "code",
   "execution_count": 2,
   "metadata": {},
   "outputs": [],
   "source": [
    "parameters2 = None\n",
    "with open('updated_parameters.pickle', 'rb') as file:\n",
    "    parameters2 = pickle.load(file)"
   ]
  },
  {
   "cell_type": "code",
   "execution_count": 6,
   "metadata": {},
   "outputs": [
    {
     "data": {
      "text/plain": [
       "([6.918692805278406e-07,\n",
       "  7.570994998347823e-11,\n",
       "  6.136533251166578e-08,\n",
       "  0.999999246689677],\n",
       " [4.988210283400476,\n",
       "  1.826924657969724,\n",
       "  3.9080257125044646,\n",
       "  18.810018366110928],\n",
       " 4.964555848725329)"
      ]
     },
     "execution_count": 6,
     "metadata": {},
     "output_type": "execute_result"
    }
   ],
   "source": [
    "parameters2[0]"
   ]
  },
  {
   "cell_type": "code",
   "execution_count": null,
   "metadata": {},
   "outputs": [],
   "source": [
    "# Calculating the corresponding densities using the newly obtained parameters for our new samples.\n",
    "\n",
    "x_values = np.linspace(start = 0, stop = 35, num = 1000)\n",
    "new_y_values = calculate_vals_for_plot(x_values, parameters2)"
   ]
  },
  {
   "cell_type": "code",
   "execution_count": null,
   "metadata": {},
   "outputs": [],
   "source": [
    "# Plots of fitted curves vs actual distribution.\n",
    "\n",
    "plotter(new_y_values, velocities)"
   ]
  },
  {
   "cell_type": "code",
   "execution_count": null,
   "metadata": {},
   "outputs": [],
   "source": [
    "# Function to calculate AIC\n",
    "\n",
    "def calculate_aic(data, parameters):\n",
    "    aic_k = []\n",
    "    k_vals = [4,6,8,11,15,20]\n",
    "    k_indicator = 0 \n",
    "    for param in parameters:\n",
    "        vals =  2*(-1*calculate_q(data, param[0], param[1], param[2], k_vals[k_indicator]) + k_vals[k_indicator])\n",
    "        aic_k.append(vals)\n",
    "        k_indicator +=1    \n",
    "    return aic_k"
   ]
  },
  {
   "cell_type": "code",
   "execution_count": null,
   "metadata": {},
   "outputs": [],
   "source": [
    "aic_k = calculate_aic(velocities, parameters2)"
   ]
  },
  {
   "cell_type": "code",
   "execution_count": null,
   "metadata": {},
   "outputs": [],
   "source": [
    "aic_k"
   ]
  },
  {
   "cell_type": "code",
   "execution_count": null,
   "metadata": {},
   "outputs": [],
   "source": [
    "# Function to calculate BIC\n",
    "\n",
    "def calculate_bic(data, parameters):\n",
    "    bic_k = []\n",
    "    k_vals = [4,6,8,11,15,20]\n",
    "    k_indicator = 0 \n",
    "    for param in parameters:\n",
    "        vals =  -2*calculate_q(data, param[0], param[1], param[2], k_vals[k_indicator]) + k_vals[k_indicator]*log(len(data))\n",
    "        bic_k.append(vals)\n",
    "        k_indicator +=1    \n",
    "    return bic_k"
   ]
  },
  {
   "cell_type": "code",
   "execution_count": null,
   "metadata": {},
   "outputs": [],
   "source": [
    "bic_k = calculate_bic(velocities, parameters2)\n",
    "bic_k"
   ]
  },
  {
   "cell_type": "code",
   "execution_count": null,
   "metadata": {},
   "outputs": [],
   "source": []
  }
 ],
 "metadata": {
  "kernelspec": {
   "display_name": "Python 3.9.7 64-bit",
   "language": "python",
   "name": "python3"
  },
  "language_info": {
   "codemirror_mode": {
    "name": "ipython",
    "version": 3
   },
   "file_extension": ".py",
   "mimetype": "text/x-python",
   "name": "python",
   "nbconvert_exporter": "python",
   "pygments_lexer": "ipython3",
   "version": "3.9.7"
  },
  "orig_nbformat": 4,
  "vscode": {
   "interpreter": {
    "hash": "74896034db1845be5000ed9314487ee297f444d1b9bf6f172497bb9704b8efa0"
   }
  }
 },
 "nbformat": 4,
 "nbformat_minor": 2
}
