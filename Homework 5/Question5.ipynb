{
 "cells": [
  {
   "cell_type": "code",
   "execution_count": 1,
   "metadata": {},
   "outputs": [],
   "source": [
    "# Making Necessary Imports\n",
    "\n",
    "import pandas as pd\n",
    "import matplotlib.pyplot as plt\n",
    "import numpy as np\n",
    "import scipy\n",
    "from scipy.stats import norm, invgamma\n",
    "from math import sqrt, log, exp, pi"
   ]
  },
  {
   "cell_type": "code",
   "execution_count": 2,
   "metadata": {},
   "outputs": [
    {
     "data": {
      "text/plain": [
       "(array([0.06071575, 0.0242863 , 0.        , 0.        , 0.        ,\n",
       "        0.        , 0.0242863 , 0.        , 0.        , 0.0728589 ,\n",
       "        0.25500613, 0.10928834, 0.08500204, 0.12143149, 0.10928834,\n",
       "        0.06071575, 0.01214315, 0.0242863 , 0.        , 0.        ,\n",
       "        0.        , 0.        , 0.01214315, 0.01214315, 0.01214315]),\n",
       " array([ 9.172  , 10.17628, 11.18056, 12.18484, 13.18912, 14.1934 ,\n",
       "        15.19768, 16.20196, 17.20624, 18.21052, 19.2148 , 20.21908,\n",
       "        21.22336, 22.22764, 23.23192, 24.2362 , 25.24048, 26.24476,\n",
       "        27.24904, 28.25332, 29.2576 , 30.26188, 31.26616, 32.27044,\n",
       "        33.27472, 34.279  ]),\n",
       " <BarContainer object of 25 artists>)"
      ]
     },
     "execution_count": 2,
     "metadata": {},
     "output_type": "execute_result"
    },
    {
     "data": {
      "image/png": "[encoded data removed]",
      "text/plain": [
       "<Figure size 432x288 with 1 Axes>"
      ]
     },
     "metadata": {
      "needs_background": "light"
     },
     "output_type": "display_data"
    }
   ],
   "source": [
    "# Importing the dataset\n",
    "\n",
    "galaxies = pd.read_csv(\"galaxies.csv\")\n",
    "galaxies['x'] = galaxies['x']/1000\n",
    "velocities = galaxies['x']\n",
    "plt.hist(velocities, bins = 25, density=True)"
   ]
  },
  {
   "cell_type": "code",
   "execution_count": 3,
   "metadata": {},
   "outputs": [],
   "source": [
    "data = velocities"
   ]
  },
  {
   "cell_type": "code",
   "execution_count": 4,
   "metadata": {},
   "outputs": [],
   "source": [
    "# Function to calculate pi_i_k\n",
    "def calculate_pi_ik(data, pi_k, mu_k, sigma_k, K):\n",
    "    pi_i_k = np.zeros((len(data), K))\n",
    "    for i in range(len(data)):\n",
    "        for k in range(K):\n",
    "            numerator = pi_k[k]*norm.pdf(data[i], mu_k[k], sigma_k[k])\n",
    "            denominator = 0\n",
    "            for j in range(K):\n",
    "                denominator = denominator + pi_k[j]*norm.pdf(data[i], mu_k[j], sigma_k[j])\n",
    "            pi_i_k[i][k] = numerator/denominator\n",
    "    return pi_i_k"
   ]
  },
  {
   "cell_type": "code",
   "execution_count": 5,
   "metadata": {},
   "outputs": [],
   "source": [
    "#Calculate the zs (label values)\n",
    "def calculate_z(data, pi_k, mu_k, sigma_k, K):\n",
    "    zi = []\n",
    "    pi_i_k = calculate_pi_ik(data, pi_k, mu_k, sigma_k, K)\n",
    "    for i in range(len(data)):\n",
    "        zi.append(np.random.multinomial(1, pi_i_k[i:][0]))\n",
    "    return zi"
   ]
  },
  {
   "cell_type": "code",
   "execution_count": 6,
   "metadata": {},
   "outputs": [],
   "source": [
    "def calculate_z(data, pi_k, mu_k, sigma_k, K):\n",
    "    zi = []\n",
    "    zis = np.zeros(K)\n",
    "    for i in range(K):\n",
    "        pos = np.random.choice(list(range(K)))\n",
    "        zis[pos] = 1\n",
    "        zi.append(zis)\n",
    "    return zi"
   ]
  },
  {
   "cell_type": "code",
   "execution_count": 7,
   "metadata": {},
   "outputs": [],
   "source": [
    "K = 3\n",
    "pi_old = [np.random.uniform(0, 1) for _ in range(K)]\n",
    "pi_old = np.asarray(pi_old)\n",
    "pi_old = pi_old/np.sum(pi_old)\n",
    "pi_old = pi_old.tolist()\n",
    "\n",
    "mu_old = [np.random.uniform(1, 50) for _ in range(K)]\n",
    "sigma_old = [np.random.uniform(1, 10) for _ in range(K)]"
   ]
  },
  {
   "cell_type": "code",
   "execution_count": 8,
   "metadata": {},
   "outputs": [],
   "source": [
    "pi_i_k = calculate_pi_ik(velocities, pi_old, mu_old, sigma_old, K)\n",
    "z = calculate_z(velocities, pi_old, mu_old, sigma_old, K)"
   ]
  },
  {
   "cell_type": "code",
   "execution_count": 9,
   "metadata": {},
   "outputs": [],
   "source": [
    "def calculate_y_bar_k(data, z, K):\n",
    "    y_bar_k = []\n",
    "    for k in range(K):\n",
    "        sum = 0\n",
    "        for i in range(len(z)):\n",
    "            if(z[i][k] == 1):\n",
    "                sum += data[i]\n",
    "        y_bar_k.append(sum)\n",
    "    return y_bar_k"
   ]
  },
  {
   "cell_type": "code",
   "execution_count": 10,
   "metadata": {},
   "outputs": [],
   "source": [
    "def calculate_n_k(z, K):\n",
    "    n_k = []\n",
    "    for k in range(K):\n",
    "        sum = 0\n",
    "        for i in range(len(z)):\n",
    "            if(z[i][k] == 1):\n",
    "                sum += 1\n",
    "        n_k.append(sum)\n",
    "    return n_k"
   ]
  },
  {
   "cell_type": "code",
   "execution_count": 11,
   "metadata": {},
   "outputs": [],
   "source": [
    "n_k = calculate_n_k(z, K)"
   ]
  },
  {
   "cell_type": "code",
   "execution_count": 12,
   "metadata": {},
   "outputs": [
    {
     "data": {
      "text/plain": [
       "[0, 3, 3]"
      ]
     },
     "execution_count": 12,
     "metadata": {},
     "output_type": "execute_result"
    }
   ],
   "source": [
    "n_k"
   ]
  },
  {
   "cell_type": "code",
   "execution_count": 13,
   "metadata": {},
   "outputs": [],
   "source": [
    "def calculate_sigma_k_n(sigma_0, n_k, sigma_k, K):\n",
    "    sigma_k_n = []\n",
    "    for k in range(K):\n",
    "        sum = 1/((1/sigma_0[k]**2) + (n_k[k]/sigma_k[k]**2))\n",
    "        sigma_k_n.append(sum)\n",
    "    return sigma_k_n"
   ]
  },
  {
   "cell_type": "code",
   "execution_count": 14,
   "metadata": {},
   "outputs": [],
   "source": [
    "sigma_k_n = calculate_sigma_k_n(sigma_old, n_k, sigma_old, K)"
   ]
  },
  {
   "cell_type": "code",
   "execution_count": 15,
   "metadata": {},
   "outputs": [],
   "source": [
    "def calculate_mu_k_n(sigma_k_n, sigma_k, sigma_0, mu_0, z, data, K):\n",
    "    mu_k_n = []\n",
    "    y_bar_k = calculate_y_bar_k(data, z, K)\n",
    "    n_k = calculate_n_k(z, K)\n",
    "    for k in range(K):\n",
    "        prod = (sigma_k_n[k])*((mu_0[k]/sigma_0[k]**2) + n_k[k]*y_bar_k[k]/sigma_k[k]**2)\n",
    "        mu_k_n.append(prod)\n",
    "    return mu_k_n"
   ]
  },
  {
   "cell_type": "code",
   "execution_count": 16,
   "metadata": {},
   "outputs": [],
   "source": [
    "mu_k_n = calculate_mu_k_n(sigma_k_n, sigma_old, sigma_old, mu_old, z, velocities, K)"
   ]
  },
  {
   "cell_type": "code",
   "execution_count": 17,
   "metadata": {},
   "outputs": [],
   "source": [
    "def sample_mu_k(data, pi_k, mu_k, sigma_k, K, sigma_0, mu_0):\n",
    "    sigma_k_n = calculate_sigma_k_n(sigma_0, n_k, sigma_k, K)\n",
    "    z = calculate_z(data, pi_k, mu_k, sigma_k, K)\n",
    "    mu_k_n = calculate_mu_k_n(sigma_k_n, sigma_k, sigma_0, mu_0, z, data, K)\n",
    "    mu_k_new = []\n",
    "    for k in range(K):\n",
    "        mu_k_new.append(norm.pdf(mu_k[k], mu_k_n[k], sigma_k_n[k]))\n",
    "    return mu_k_new"
   ]
  },
  {
   "cell_type": "code",
   "execution_count": 18,
   "metadata": {},
   "outputs": [],
   "source": [
    "mu_k = sample_mu_k(velocities, pi_old, mu_old, sigma_old, K, sigma_old, mu_old)"
   ]
  },
  {
   "cell_type": "code",
   "execution_count": 19,
   "metadata": {},
   "outputs": [],
   "source": [
    "def calculate_a_k_n(a_0, data, pi_k, mu_k, sigma_k, K):\n",
    "    z = calculate_z(data, pi_k, mu_k, sigma_k, K)\n",
    "    n_k = calculate_n_k(z, K)\n",
    "    a_k_n = []\n",
    "    for k in range(K):\n",
    "        a_k_n.append(a_0[k] + n_k[k]/2)\n",
    "    return a_k_n"
   ]
  },
  {
   "cell_type": "code",
   "execution_count": 20,
   "metadata": {},
   "outputs": [],
   "source": [
    "def calculate_b_k_n(b_0, data, pi_k, mu_k, sigma_k, K):\n",
    "    z = calculate_z(data, pi_k, mu_k, sigma_k, K)\n",
    "    n_k = calculate_n_k(z, K)\n",
    "    y_bar_k = calculate_y_bar_k(data, z, K)\n",
    "    b_k_n = []\n",
    "    for k in range(K):\n",
    "        b_k_n.append(b_0[k] + (((n_k[k] - 1)*sigma_k[k])/2) + ((n_k[k]*(y_bar_k[k] - mu_k[k])**2)/2))\n",
    "    return b_k_n"
   ]
  },
  {
   "cell_type": "code",
   "execution_count": 21,
   "metadata": {},
   "outputs": [],
   "source": [
    "def sample_sigma_k(a_0, b_0, data, pi_k, mu_k, sigma_k,K):\n",
    "    sigma_k_new = []\n",
    "    a_k_n = calculate_a_k_n(a_0, data, pi_k, mu_k, sigma_k, K)\n",
    "    b_k_n = calculate_b_k_n(b_0, data, pi_k, mu_k, sigma_k, K)\n",
    "    for k in range(K):\n",
    "        sigma_k_new.append(invgamma.pdf(sigma_k[k], a_k_n[k], b_k_n[k]))\n",
    "    return sigma_k_new"
   ]
  },
  {
   "cell_type": "code",
   "execution_count": 22,
   "metadata": {},
   "outputs": [],
   "source": [
    "a_0 = [np.random.uniform(1,10) for _ in range(K)]\n",
    "b_0 = [np.random.uniform(1,10) for _ in range(K)]"
   ]
  },
  {
   "cell_type": "code",
   "execution_count": 23,
   "metadata": {},
   "outputs": [
    {
     "data": {
      "text/plain": [
       "[0.0, 2.262309039411685e-85, 0.0]"
      ]
     },
     "execution_count": 23,
     "metadata": {},
     "output_type": "execute_result"
    }
   ],
   "source": [
    "sample_sigma_k(a_0, b_0, data, pi_old, mu_old, sigma_old, K)"
   ]
  },
  {
   "cell_type": "code",
   "execution_count": 24,
   "metadata": {},
   "outputs": [],
   "source": [
    "def sample_pi_k(data, pi_k, mu_k, sigma_k, K):\n",
    "    pi_k_new = []\n",
    "    pi_i_k = calculate_pi_ik(data, pi_k, mu_k, sigma_k, K)\n",
    "    for k in range(K):\n",
    "        numerator = 0\n",
    "        for i in range(len(data)):\n",
    "            numerator = numerator + pi_i_k[i][k]\n",
    "        denominator = 0\n",
    "        for j in range(K):\n",
    "            for l in range(len(data)):\n",
    "                denominator = denominator + pi_i_k[l][k]\n",
    "        pi_k_new.append(numerator/denominator)\n",
    "    return pi_k_new\n",
    "    "
   ]
  },
  {
   "cell_type": "code",
   "execution_count": 25,
   "metadata": {},
   "outputs": [],
   "source": [
    "def gibbs_sampler(iterations, data, K):\n",
    "    pi_old = [np.random.uniform(0, 1) for _ in range(K)]\n",
    "    pi_old = np.asarray(pi_old)\n",
    "    pi_old = pi_old/np.sum(pi_old)\n",
    "    pi_old = pi_old.tolist()\n",
    "\n",
    "    mu_old = [np.random.uniform(1, 50) for _ in range(K)]\n",
    "    sigma_old = [np.random.uniform(1, 10) for _ in range(K)]\n",
    "    a_0 = [np.random.uniform(1,10) for _ in range(K)]\n",
    "    b_0 = [np.random.uniform(1,10) for _ in range(K)]\n",
    "    \n",
    "    mu_new = sample_mu_k(data, pi_old, mu_old, sigma_old, K, sigma_old, mu_old)\n",
    "    sigma_new = sample_sigma_k(a_0, b_0, data, pi_old, mu_old, sigma_old,K)\n",
    "    pi_new = sample_pi_k(data, pi_old, mu_old, sigma_old, K)\n",
    "\n",
    "    sampled_mu_k = [mu_new]\n",
    "    sampled_sigma_k = [sigma_new]\n",
    "    sampled_pi_k = [pi_new]\n",
    "    for i in range(iterations):\n",
    "        pi_temp = sample_pi_k(data, pi_new, mu_new, sigma_new, K)\n",
    "        mu_temp = sample_mu_k(data, pi_temp, mu_new, sigma_new, K, sigma_old, mu_old)\n",
    "        sigma_temp = sample_sigma_k(a_0, b_0, data, pi_temp, pi_temp, sigma_new,K)\n",
    "        sampled_pi_k.append(pi_temp)\n",
    "        sampled_mu_k.append(mu_temp)\n",
    "        sampled_sigma_k.append(sigma_temp)\n",
    "        pi_new = pi_temp\n",
    "        sigma_new = sigma_temp\n",
    "        mu_new = mu_temp\n",
    "    return pi_new, mu_new, sigma_new "
   ]
  },
  {
   "cell_type": "code",
   "execution_count": 26,
   "metadata": {},
   "outputs": [
    {
     "name": "stderr",
     "output_type": "stream",
     "text": [
      "c:\\Users\\rahul\\AppData\\Local\\Programs\\Python\\Python39\\lib\\site-packages\\scipy\\stats\\_distn_infrastructure.py:1870: RuntimeWarning: divide by zero encountered in double_scalars\n",
      "  x = np.asarray((x - loc)/scale, dtype=dtyp)\n",
      "C:\\Users\\rahul\\AppData\\Local\\Temp/ipykernel_19308/3876186614.py:4: RuntimeWarning: invalid value encountered in double_scalars\n",
      "  sum = 1/((1/sigma_0[k]**2) + (n_k[k]/sigma_k[k]**2))\n",
      "C:\\Users\\rahul\\AppData\\Local\\Temp/ipykernel_19308/3876186614.py:4: RuntimeWarning: divide by zero encountered in double_scalars\n",
      "  sum = 1/((1/sigma_0[k]**2) + (n_k[k]/sigma_k[k]**2))\n",
      "C:\\Users\\rahul\\AppData\\Local\\Temp/ipykernel_19308/2592960678.py:6: RuntimeWarning: invalid value encountered in double_scalars\n",
      "  prod = (sigma_k_n[k])*((mu_0[k]/sigma_0[k]**2) + n_k[k]*y_bar_k[k]/sigma_k[k]**2)\n",
      "C:\\Users\\rahul\\AppData\\Local\\Temp/ipykernel_19308/2592960678.py:6: RuntimeWarning: divide by zero encountered in double_scalars\n",
      "  prod = (sigma_k_n[k])*((mu_0[k]/sigma_0[k]**2) + n_k[k]*y_bar_k[k]/sigma_k[k]**2)\n"
     ]
    }
   ],
   "source": [
    "pi_new, mu_new, sigma_new = gibbs_sampler(100, velocities, 3)"
   ]
  },
  {
   "cell_type": "code",
   "execution_count": 27,
   "metadata": {},
   "outputs": [
    {
     "data": {
      "text/plain": [
       "[nan, nan, nan]"
      ]
     },
     "execution_count": 27,
     "metadata": {},
     "output_type": "execute_result"
    }
   ],
   "source": [
    "sigma_new"
   ]
  },
  {
   "cell_type": "code",
   "execution_count": null,
   "metadata": {},
   "outputs": [],
   "source": []
  }
 ],
 "metadata": {
  "kernelspec": {
   "display_name": "Python 3.9.7 64-bit",
   "language": "python",
   "name": "python3"
  },
  "language_info": {
   "codemirror_mode": {
    "name": "ipython",
    "version": 3
   },
   "file_extension": ".py",
   "mimetype": "text/x-python",
   "name": "python",
   "nbconvert_exporter": "python",
   "pygments_lexer": "ipython3",
   "version": "3.9.7"
  },
  "orig_nbformat": 4,
  "vscode": {
   "interpreter": {
    "hash": "74896034db1845be5000ed9314487ee297f444d1b9bf6f172497bb9704b8efa0"
   }
  }
 },
 "nbformat": 4,
 "nbformat_minor": 2
}
